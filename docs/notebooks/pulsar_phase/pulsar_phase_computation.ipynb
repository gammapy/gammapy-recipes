{
 "cells": [
  {
   "cell_type": "markdown",
   "metadata": {},
   "source": [
    "\n",
    "<div class=\"alert alert-info\">\n",
    "\n",
    "**This is a fixed-text formatted version of a Jupyter notebook**\n",
    "\n",
    "- **Source files:**\n",
    "[pulsar_phase_computation.ipynb](../../_static/notebooks/pulsar_phase/pulsar_phase_computation.ipynb) |\n",
    "[pulsar_phase_computation.py](../../_static/notebooks/pulsar_phase/pulsar_phase_computation.py)\n",
    "\n",
    "- **Environment:**\n",
    "[env.yml](../../_static/notebooks/pulsar_phase/env.yml)\n",
    "</div>\n"
   ]
  },
  {
   "cell_type": "markdown",
   "id": "29476e1d",
   "metadata": {},
   "source": [
    "# Phase computation for pulsar using PINT"
   ]
  },
  {
   "cell_type": "markdown",
   "id": "d69ed96d",
   "metadata": {},
   "source": [
    "This notebook has been done for the following version of Gammapy and PINT:\n",
    "\n",
    "Gammapy version : 1.2\n",
    "\n",
    "PINT version : 1.0"
   ]
  },
  {
   "cell_type": "markdown",
   "id": "d1a30dd7",
   "metadata": {},
   "source": [
    "This notebook shows how to compute and add the phase information into the events files of pulsar observations. This step is needed to perform the pulsar analysis with Gammapy and should be the first step in the high level analysis. For the pulsar analysis we need two ingredients:\n",
    "\n",
    "1. The time of arrivals (TOAs). These times should have very high precision due to the common fast periods of pulsars. Usually these times are already stored in the EventList. For the computation of pulsar timing, times must be corrected in order to be referenced in the Solar System barycenter (SSB) because this system can nearly be regarded as an inertial reference frame with respect to the pulsar.\n",
    "\n",
    "\n",
    "2. The model of rotation of the pulsar, also known as ephemeris, at the epoch of the observations. These ephemerides are stored in a specific format and saved as .par files which contain the periods, derivatives of the periods, coordinates, glitches, etc.\n",
    "\n",
    "__For the following steps of this tutorial, we need the original EventLists from the DL3 files, and a model in .par format.__\n",
    "\n",
    "The main software that we will use to make the barycentric corrections and the phase-folding to the model is the PINT python library, [Luo J., Ransom S. et al., 2021](https://arxiv.org/abs/2012.00074), [ASCL](http://ascl.net/1902.007).\n",
    "For more information about this package, see [PINT documentation](https://nanograv-pint.readthedocs.io/en/latest/). "
   ]
  },
  {
   "cell_type": "markdown",
   "id": "c61c515c",
   "metadata": {},
   "source": [
    "## 0. Dependencies and imports"
   ]
  },
  {
   "cell_type": "markdown",
   "id": "a9c72d26",
   "metadata": {},
   "source": [
    "To run this notebook, you must have Gammapy and PINT (see documentation above) installed in the same environment. We recommend installing Gammapy first and then installing PINT using your preferred package manager.\n",
    "\n",
    "\n",
    "`$ conda env create -n gammapy-pint -f gammapy-pint-environment.yml`\n",
    "\n",
    "`$ conda activate gammapy-pint`\n",
    "\n",
    "`$ pip install pint-pulsar`"
   ]
  },
  {
   "cell_type": "markdown",
   "id": "2329c197",
   "metadata": {},
   "source": [
    "Alternatively, one can also run the yaml environement file provided in the folder of this notebook:\n",
    "\n",
    "`$ conda env create -n gammapy-pint -f gammapy-pint-environment.yml`\n"
   ]
  },
  {
   "cell_type": "code",
   "execution_count": 1,
   "id": "b68d2444",
   "metadata": {
    "execution": {
     "iopub.execute_input": "2024-08-30T13:43:53.336099Z",
     "iopub.status.busy": "2024-08-30T13:43:53.335935Z",
     "iopub.status.idle": "2024-08-30T13:43:53.836216Z",
     "shell.execute_reply": "2024-08-30T13:43:53.835669Z"
    }
   },
   "outputs": [
    {
     "name": "stdout",
     "output_type": "stream",
     "text": [
      "Gammapy version : 1.2\n",
      "PINT version : 1.0.1\n"
     ]
    }
   ],
   "source": [
    "import gammapy\n",
    "import pint\n",
    "\n",
    "print(f\"Gammapy version : {gammapy.__version__}\")\n",
    "print(f\"PINT version : {pint.__version__}\")"
   ]
  },
  {
   "cell_type": "code",
   "execution_count": 2,
   "id": "e61b5e3e",
   "metadata": {
    "execution": {
     "iopub.execute_input": "2024-08-30T13:43:53.838441Z",
     "iopub.status.busy": "2024-08-30T13:43:53.838106Z",
     "iopub.status.idle": "2024-08-30T13:43:54.626040Z",
     "shell.execute_reply": "2024-08-30T13:43:54.625476Z"
    }
   },
   "outputs": [],
   "source": [
    "import astropy.units as u\n",
    "from astropy.time import Time\n",
    "from astropy.coordinates import SkyCoord\n",
    "import numpy as np\n",
    "from pathlib import Path\n",
    "from gammapy.data import DataStore, EventList, Observation\n",
    "import logging\n",
    "\n",
    "log = logging.getLogger(__name__)"
   ]
  },
  {
   "cell_type": "markdown",
   "id": "81ae3a58",
   "metadata": {},
   "source": [
    "We also need some imports from PINT:"
   ]
  },
  {
   "cell_type": "code",
   "execution_count": 3,
   "id": "22ac4aea",
   "metadata": {
    "execution": {
     "iopub.execute_input": "2024-08-30T13:43:54.628537Z",
     "iopub.status.busy": "2024-08-30T13:43:54.628244Z",
     "iopub.status.idle": "2024-08-30T13:43:54.656522Z",
     "shell.execute_reply": "2024-08-30T13:43:54.655994Z"
    }
   },
   "outputs": [],
   "source": [
    "import pint.models as pmodels\n",
    "from pint import toa"
   ]
  },
  {
   "cell_type": "markdown",
   "id": "5aae5f4b",
   "metadata": {},
   "source": [
    "## 1. Reading DataStore"
   ]
  },
  {
   "cell_type": "markdown",
   "id": "b486ec45",
   "metadata": {},
   "source": [
    "First we need to define the data sample. In this notebook we will use two runs from the MAGIC gammapy data sample available in https://github.com/gammapy/gammapy-data"
   ]
  },
  {
   "cell_type": "code",
   "execution_count": 4,
   "id": "d0e182bb",
   "metadata": {
    "execution": {
     "iopub.execute_input": "2024-08-30T13:43:54.658921Z",
     "iopub.status.busy": "2024-08-30T13:43:54.658599Z",
     "iopub.status.idle": "2024-08-30T13:43:54.660775Z",
     "shell.execute_reply": "2024-08-30T13:43:54.660345Z"
    }
   },
   "outputs": [],
   "source": [
    "# Define the directory containing the DL3 data\n",
    "DL3_dir = \"$GAMMAPY_DATA/magic/rad_max/data\""
   ]
  },
  {
   "cell_type": "code",
   "execution_count": 5,
   "id": "b5019a42",
   "metadata": {
    "execution": {
     "iopub.execute_input": "2024-08-30T13:43:54.662674Z",
     "iopub.status.busy": "2024-08-30T13:43:54.662366Z",
     "iopub.status.idle": "2024-08-30T13:43:54.676462Z",
     "shell.execute_reply": "2024-08-30T13:43:54.675957Z"
    }
   },
   "outputs": [],
   "source": [
    "# Read DataStore from a directory\n",
    "data_store = DataStore.from_dir(DL3_dir)"
   ]
  },
  {
   "cell_type": "markdown",
   "id": "b551325a",
   "metadata": {},
   "source": [
    "Let's run this tutorial for the Crab pulsar :"
   ]
  },
  {
   "cell_type": "code",
   "execution_count": 6,
   "id": "9ba16fcc",
   "metadata": {
    "execution": {
     "iopub.execute_input": "2024-08-30T13:43:54.678608Z",
     "iopub.status.busy": "2024-08-30T13:43:54.678236Z",
     "iopub.status.idle": "2024-08-30T13:43:54.681323Z",
     "shell.execute_reply": "2024-08-30T13:43:54.680828Z"
    }
   },
   "outputs": [],
   "source": [
    "target_pos = SkyCoord(ra=083.633, dec=+22.014, unit=\"deg\", frame=\"icrs\")"
   ]
  },
  {
   "cell_type": "code",
   "execution_count": 7,
   "id": "06bda835",
   "metadata": {
    "execution": {
     "iopub.execute_input": "2024-08-30T13:43:54.683221Z",
     "iopub.status.busy": "2024-08-30T13:43:54.682910Z",
     "iopub.status.idle": "2024-08-30T13:43:54.687923Z",
     "shell.execute_reply": "2024-08-30T13:43:54.687497Z"
    }
   },
   "outputs": [],
   "source": [
    "selection = dict(\n",
    "    type=\"sky_circle\",\n",
    "    frame=\"icrs\",\n",
    "    lon=target_pos.ra,\n",
    "    lat=target_pos.dec,\n",
    "    radius=\"5 deg\",\n",
    ")\n",
    "selected_obs_table = data_store.obs_table.select_observations(selection)"
   ]
  },
  {
   "cell_type": "code",
   "execution_count": 8,
   "id": "f96ccf30",
   "metadata": {
    "execution": {
     "iopub.execute_input": "2024-08-30T13:43:54.689878Z",
     "iopub.status.busy": "2024-08-30T13:43:54.689440Z",
     "iopub.status.idle": "2024-08-30T13:43:54.692452Z",
     "shell.execute_reply": "2024-08-30T13:43:54.691937Z"
    }
   },
   "outputs": [
    {
     "name": "stdout",
     "output_type": "stream",
     "text": [
      " OBS_ID\n",
      "-------\n",
      "5029748\n",
      "5029747\n"
     ]
    }
   ],
   "source": [
    "obs_id = selected_obs_table[\"OBS_ID\"]\n",
    "print(obs_id)"
   ]
  },
  {
   "cell_type": "markdown",
   "id": "9b77aaae",
   "metadata": {},
   "source": [
    "For the following we will take the run 5029747."
   ]
  },
  {
   "cell_type": "code",
   "execution_count": 9,
   "id": "fa6e36d5",
   "metadata": {
    "execution": {
     "iopub.execute_input": "2024-08-30T13:43:54.694439Z",
     "iopub.status.busy": "2024-08-30T13:43:54.694155Z",
     "iopub.status.idle": "2024-08-30T13:43:54.699214Z",
     "shell.execute_reply": "2024-08-30T13:43:54.698826Z"
    }
   },
   "outputs": [],
   "source": [
    "observations = data_store.get_observations(\n",
    "    [5029747], required_irf=\"point-like\"\n",
    ")"
   ]
  },
  {
   "cell_type": "code",
   "execution_count": 10,
   "id": "dec2c1a5",
   "metadata": {
    "execution": {
     "iopub.execute_input": "2024-08-30T13:43:54.701143Z",
     "iopub.status.busy": "2024-08-30T13:43:54.700820Z",
     "iopub.status.idle": "2024-08-30T13:43:54.755258Z",
     "shell.execute_reply": "2024-08-30T13:43:54.754750Z"
    }
   },
   "outputs": [
    {
     "name": "stdout",
     "output_type": "stream",
     "text": [
      "Observations\n",
      "Number of observations: 1\n",
      "Observation\n",
      "\n",
      "\tobs id            : 5029747 \n",
      " \ttstart            : 56569.18\n",
      "\ttstop             : 56569.19\n",
      "\tduration          : 1188.11 s\n",
      "\tpointing (icrs)   : 84.0 deg, 22.2 deg\n",
      "\n",
      "\tdeadtime fraction : 0.8%\n",
      "\n"
     ]
    }
   ],
   "source": [
    "print(observations)"
   ]
  },
  {
   "cell_type": "markdown",
   "id": "0dd88876",
   "metadata": {},
   "source": [
    "## 2. Phase-folding with PINT for one observation"
   ]
  },
  {
   "cell_type": "markdown",
   "id": "162a3ac0",
   "metadata": {},
   "source": [
    "Let's extract the times from the observation:"
   ]
  },
  {
   "cell_type": "code",
   "execution_count": 11,
   "id": "2756e72d",
   "metadata": {
    "execution": {
     "iopub.execute_input": "2024-08-30T13:43:54.757339Z",
     "iopub.status.busy": "2024-08-30T13:43:54.757008Z",
     "iopub.status.idle": "2024-08-30T13:43:54.770138Z",
     "shell.execute_reply": "2024-08-30T13:43:54.769738Z"
    }
   },
   "outputs": [],
   "source": [
    "# Extract times from EventList\n",
    "observation = observations[0]\n",
    "times = observation.events.time"
   ]
  },
  {
   "cell_type": "code",
   "execution_count": 12,
   "id": "1ac8103a",
   "metadata": {
    "execution": {
     "iopub.execute_input": "2024-08-30T13:43:54.772090Z",
     "iopub.status.busy": "2024-08-30T13:43:54.771779Z",
     "iopub.status.idle": "2024-08-30T13:43:54.774716Z",
     "shell.execute_reply": "2024-08-30T13:43:54.774242Z"
    }
   },
   "outputs": [
    {
     "name": "stdout",
     "output_type": "stream",
     "text": [
      "[56569.18112859 56569.18112878 56569.18112978 ... 56569.19487702\n",
      " 56569.19487703 56569.19487876]\n"
     ]
    }
   ],
   "source": [
    "print(times)"
   ]
  },
  {
   "cell_type": "markdown",
   "id": "e93bfbeb",
   "metadata": {},
   "source": [
    "Now we have the TOAs for the events in the system of the telescope. Please note: the actual precision of the times is higher than the displayed output (and we really need this precision for the pulsar analysis!). In the next step, the timing in the SSB and the phase for each TOA has to be created."
   ]
  },
  {
   "cell_type": "markdown",
   "id": "e46c5d70",
   "metadata": {},
   "source": [
    "## 2.1 An ephemeris file from Fermi-LAT data."
   ]
  },
  {
   "cell_type": "markdown",
   "id": "fb536b7e",
   "metadata": {},
   "source": [
    "In order to compute the phases of a pulsar, one needs an ephemeris file, typically stored as a .par file.\n",
    "\n",
    "In the following, we will use an ephemeris file for the Crab provided by Fermi-LAT, see [Kerr, M.; Ray, P. S.; et al; 2015](https://arxiv.org/abs/1510.05099). This ephemeris file for the Crab pulsar can be found alongside other pulsar ephemeris files at this [confluence page]( https://confluence.slac.stanford.edu/display/GLAMCOG/LAT+Gamma-ray+Pulsar+Timing+Models). \n",
    "\n",
    "However, it is important to note that many of the ephemeris files are not up-to-date. Therefore, they could give bad results on the phase computation. In particular, you should always check that the MJD of the observations one wants to phase lies between the `START` and `FINISH` entries of the ephemeris file (see next section)."
   ]
  },
  {
   "cell_type": "code",
   "execution_count": 13,
   "id": "d4f89ba4",
   "metadata": {
    "execution": {
     "iopub.execute_input": "2024-08-30T13:43:54.776686Z",
     "iopub.status.busy": "2024-08-30T13:43:54.776389Z",
     "iopub.status.idle": "2024-08-30T13:43:54.778777Z",
     "shell.execute_reply": "2024-08-30T13:43:54.778358Z"
    }
   },
   "outputs": [],
   "source": [
    "# Path to the ephemeris file\n",
    "ephemeris_file = \"0534+2200_ApJ_708_1254_2010.par\""
   ]
  },
  {
   "cell_type": "markdown",
   "id": "52eb3086",
   "metadata": {},
   "source": [
    "Note that *Fermi*-LAT ephemeris files are created primarily by and for [Tempo2](https://www.pulsarastronomy.net/pulsar/software/tempo2). Most of the time, using such ephemeris file with PINT will not raise any issues. However, in a few cases, PINT does not support features from Tempo2. \n",
    "\n",
    "In our case, an error occurs when using the ephemeris file with PINT. This is due to the `JUMP` line. To proceed, simply comment  out the line (with #) or remove it. Note that this line is not important for the gamma-ray instruments, so it is acceptable to disregard it."
   ]
  },
  {
   "cell_type": "markdown",
   "id": "9de2d5f9",
   "metadata": {},
   "source": [
    "## 2.2 Computing pulsar phases"
   ]
  },
  {
   "cell_type": "markdown",
   "id": "9d8ee2a8",
   "metadata": {},
   "source": [
    "Now that we have the model and the times of arrival for the different events, we can compute the timing corrections and the pulsar phases needed for the pulsar analysis. In this case, we use the PINT package described in the introduction."
   ]
  },
  {
   "cell_type": "markdown",
   "id": "118886ce",
   "metadata": {},
   "source": [
    "First we will explore our model. We print some of the relevant quantities"
   ]
  },
  {
   "cell_type": "code",
   "execution_count": 14,
   "id": "d24e1c92",
   "metadata": {
    "execution": {
     "iopub.execute_input": "2024-08-30T13:43:54.780756Z",
     "iopub.status.busy": "2024-08-30T13:43:54.780435Z",
     "iopub.status.idle": "2024-08-30T13:43:54.876016Z",
     "shell.execute_reply": "2024-08-30T13:43:54.875575Z"
    }
   },
   "outputs": [
    {
     "name": "stderr",
     "output_type": "stream",
     "text": [
      "\u001b[32m2024-08-30 13:43:54.870\u001b[0m | \u001b[1mINFO    \u001b[0m | \u001b[36mpint.models.absolute_phase\u001b[0m:\u001b[36mvalidate\u001b[0m:\u001b[36m77\u001b[0m - \u001b[1mTZRFRQ was 0.0 or None. Setting to infinite frequency.\u001b[0m\n",
      "/home/runner/miniconda3/envs/gammapy-recipes/lib/python3.11/site-packages/pint/models/model_builder.py:230: UserWarning: Unrecognized parfile line 'EPHVER 5'\n",
      "  warnings.warn(f\"Unrecognized parfile line '{p_line}'\", UserWarning)\n",
      "\u001b[32m2024-08-30 13:43:54.872\u001b[0m | \u001b[33m\u001b[1mWARNING \u001b[0m | \u001b[36mpint.models.model_builder\u001b[0m:\u001b[36m__call__\u001b[0m:\u001b[36m234\u001b[0m - \u001b[33m\u001b[1mUNITS is not specified. Assuming TDB...\u001b[0m\n"
     ]
    },
    {
     "name": "stdout",
     "output_type": "stream",
     "text": [
      "AstrometryEquatorial(\n",
      "    MJDParameter(   POSEPOCH            50739.0000000000000000 (d) frozen=True),\n",
      "    floatParameter( PX                  0.0               (mas) frozen=True),\n",
      "    AngleParameter( RAJ                 5:34:31.94000000  (hourangle) frozen=True),\n",
      "    AngleParameter( DECJ                22:00:52.10000000 (deg) frozen=True),\n",
      "    floatParameter( PMRA                -11.8             (mas / yr) +/- 1.0 mas / yr frozen=True),\n",
      "    floatParameter( PMDEC               4.4               (mas / yr) +/- 1.0 mas / yr frozen=True))\n",
      "SolarSystemShapiro(\n",
      "    boolParameter(  PLANET_SHAPIRO      N                 frozen=True))\n",
      "DispersionDM(\n",
      "    floatParameter( DM                  56.785579397589822356 (pc / cm3) frozen=True),\n",
      "    floatParameter( DM1                 0.031279168349770640344 (pc / (yr cm3)) frozen=True),\n",
      "    MJDParameter(   DMEPOCH             55107.8071585532816240 (d) frozen=True))\n",
      "AbsPhase(\n",
      "    MJDParameter(   TZRMJD              55638.1552775999516551 (d) frozen=True),\n",
      "    strParameter(   TZRSITE             coe               frozen=True),\n",
      "    floatParameter( TZRFRQ              inf               (MHz) frozen=True))\n",
      "Spindown(\n",
      "    floatParameter( F0                  29.716913767510206412 (Hz) +/- 7.440760185772888e-08 Hz frozen=True),\n",
      "    MJDParameter(   PEPOCH              55555.0000000000000000 (d) frozen=True),\n",
      "    floatParameter( F1                  -3.7105744257791078768e-10 (Hz / s) +/- 7.182646367277094e-16 Hz / s frozen=True),\n",
      "    floatParameter( F2                  1.1633675551229037574e-20 (Hz / s2) +/- 2.487306981530037e-23 Hz / s2 frozen=True),\n",
      "    floatParameter( F3                  -8.6724769747827286635e-31 (Hz / s3) +/- 0.0 Hz / s3 frozen=True))\n"
     ]
    }
   ],
   "source": [
    "model = pmodels.get_model(ephemeris_file)\n",
    "print(model.components[\"AstrometryEquatorial\"])\n",
    "print(model.components[\"SolarSystemShapiro\"])\n",
    "print(model.components[\"DispersionDM\"])\n",
    "print(model.components[\"AbsPhase\"])\n",
    "print(model.components[\"Spindown\"])"
   ]
  },
  {
   "cell_type": "markdown",
   "id": "0f8cd0d8",
   "metadata": {},
   "source": [
    "There are multiple parameters such as the name of the source, the frequencies of rotation and its derivatives (F0,F1,F2), the dispersion measure, etc. Check the [PINT documentation](https://nanograv-pint.readthedocs.io) for a list of additional parameters. To obtain the complete set of parameters from the ephemeris file, one can simply print the model:\n",
    "`print(model)`"
   ]
  },
  {
   "cell_type": "markdown",
   "id": "f02f0ca5-09f2-44d4-ad76-518f8964b6a1",
   "metadata": {},
   "source": [
    "As mentioned previously, we should ensure the time of the observation lies within the ephemeris time definition. In our example, we only have one run, so we can check that manually:"
   ]
  },
  {
   "cell_type": "code",
   "execution_count": 15,
   "id": "2584b571-93a9-4fb6-b8e2-60b8810190f6",
   "metadata": {
    "execution": {
     "iopub.execute_input": "2024-08-30T13:43:54.878085Z",
     "iopub.status.busy": "2024-08-30T13:43:54.877785Z",
     "iopub.status.idle": "2024-08-30T13:43:54.881053Z",
     "shell.execute_reply": "2024-08-30T13:43:54.880542Z"
    }
   },
   "outputs": [
    {
     "name": "stdout",
     "output_type": "stream",
     "text": [
      "Ephemeris time definition:\n",
      "54686.1526259 - 56583.1591704\n",
      "Observation time definition:\n",
      "56569.18112772242 - 56569.19487901596\n"
     ]
    }
   ],
   "source": [
    "print(\n",
    "    f\"Ephemeris time definition:\\n{model.START.value} - {model.FINISH.value}\"\n",
    ")\n",
    "print(\n",
    "    f\"Observation time definition:\\n{observation.tstart} - {observation.tstop}\"\n",
    ")"
   ]
  },
  {
   "cell_type": "markdown",
   "id": "86041174-5ec4-43ba-9035-cf567b47a3bb",
   "metadata": {},
   "source": [
    "If you have several observations that are sorted by time, you can manually check for the start time of the first observation and the stop time of the last one. Otherwise, you can create a small function like the following one:"
   ]
  },
  {
   "cell_type": "code",
   "execution_count": 16,
   "id": "8838ee6c-5b53-4d34-8fd7-94d32daa6bb3",
   "metadata": {
    "execution": {
     "iopub.execute_input": "2024-08-30T13:43:54.882764Z",
     "iopub.status.busy": "2024-08-30T13:43:54.882615Z",
     "iopub.status.idle": "2024-08-30T13:43:54.886095Z",
     "shell.execute_reply": "2024-08-30T13:43:54.885667Z"
    }
   },
   "outputs": [],
   "source": [
    "def check_time(observation, timing_model):\n",
    "    \"\"\"\n",
    "    Check that the observation time lies within the time definition of the pulsar\n",
    "    timing model.\n",
    "\n",
    "    Parameters\n",
    "    ----------\n",
    "    observation: `gammapy.data.Observation`\n",
    "        Observation to check.\n",
    "    timing_model: `pint.models.TimingModel`\n",
    "        The timing model that will be used.\n",
    "    \"\"\"\n",
    "    model_time = Time(\n",
    "        [model.START.value, model.FINISH.value], scale=\"tt\", format=\"mjd\"\n",
    "    )\n",
    "    if (model_time[0].value > observation.tstart.tt.mjd) or (\n",
    "        model_time[1].value < observation.tstop.tt.mjd\n",
    "    ):\n",
    "        log.warning(\n",
    "            f\"Warning: Observation time of observation {observation.obs_id} goes out of timing model validity time.\"\n",
    "        )"
   ]
  },
  {
   "cell_type": "code",
   "execution_count": 17,
   "id": "0d37e6cc-2cae-4192-87d9-88d52216e83f",
   "metadata": {
    "execution": {
     "iopub.execute_input": "2024-08-30T13:43:54.887762Z",
     "iopub.status.busy": "2024-08-30T13:43:54.887614Z",
     "iopub.status.idle": "2024-08-30T13:43:54.890615Z",
     "shell.execute_reply": "2024-08-30T13:43:54.890203Z"
    }
   },
   "outputs": [],
   "source": [
    "check_time(observation, model)"
   ]
  },
  {
   "cell_type": "markdown",
   "id": "56a64435",
   "metadata": {},
   "source": [
    "Now we can compute the phases. For that, we define a list of TOA objects that are the main object of PINT."
   ]
  },
  {
   "cell_type": "code",
   "execution_count": 18,
   "id": "a145cdde",
   "metadata": {
    "execution": {
     "iopub.execute_input": "2024-08-30T13:43:54.892323Z",
     "iopub.status.busy": "2024-08-30T13:43:54.892174Z",
     "iopub.status.idle": "2024-08-30T13:44:15.697802Z",
     "shell.execute_reply": "2024-08-30T13:44:15.697299Z"
    }
   },
   "outputs": [
    {
     "name": "stderr",
     "output_type": "stream",
     "text": [
      "\u001b[32m2024-08-30 13:43:55.618\u001b[0m | \u001b[34m\u001b[1mDEBUG   \u001b[0m | \u001b[36mpint.toa\u001b[0m:\u001b[36m__init__\u001b[0m:\u001b[36m1377\u001b[0m - \u001b[34m\u001b[1mNo pulse number flags found in the TOAs\u001b[0m\n",
      "\u001b[32m2024-08-30 13:43:55.633\u001b[0m | \u001b[34m\u001b[1mDEBUG   \u001b[0m | \u001b[36mpint.toa\u001b[0m:\u001b[36mapply_clock_corrections\u001b[0m:\u001b[36m2224\u001b[0m - \u001b[34m\u001b[1mApplying clock corrections (include_bipm = False)\u001b[0m\n",
      "\u001b[32m2024-08-30 13:43:56.294\u001b[0m | \u001b[1mINFO    \u001b[0m | \u001b[36mpint.observatory\u001b[0m:\u001b[36mgps_correction\u001b[0m:\u001b[36m248\u001b[0m - \u001b[1mApplying GPS to UTC clock correction (~few nanoseconds)\u001b[0m\n",
      "\u001b[32m2024-08-30 13:43:56.294\u001b[0m | \u001b[34m\u001b[1mDEBUG   \u001b[0m | \u001b[36mpint.observatory\u001b[0m:\u001b[36m_load_gps_clock\u001b[0m:\u001b[36m122\u001b[0m - \u001b[34m\u001b[1mLoading global GPS clock file\u001b[0m\n",
      "\u001b[32m2024-08-30 13:43:56.297\u001b[0m | \u001b[1mINFO    \u001b[0m | \u001b[36mpint.observatory.global_clock_corrections\u001b[0m:\u001b[36mget_file\u001b[0m:\u001b[36m128\u001b[0m - \u001b[1mFile index.txt to be downloaded due to download policy if_expired: https://raw.githubusercontent.com/ipta/pulsar-clock-corrections/main/index.txt\u001b[0m\n",
      "\u001b[32m2024-08-30 13:43:56.451\u001b[0m | \u001b[34m\u001b[1mDEBUG   \u001b[0m | \u001b[36mpint.observatory.clock_file\u001b[0m:\u001b[36m__init__\u001b[0m:\u001b[36m812\u001b[0m - \u001b[34m\u001b[1mGlobal clock file gps2utc.clk saving kwargs={'bogus_last_correction': False, 'valid_beyond_ends': False}\u001b[0m\n",
      "\u001b[32m2024-08-30 13:43:56.452\u001b[0m | \u001b[1mINFO    \u001b[0m | \u001b[36mpint.observatory.global_clock_corrections\u001b[0m:\u001b[36mget_file\u001b[0m:\u001b[36m128\u001b[0m - \u001b[1mFile T2runtime/clock/gps2utc.clk to be downloaded due to download policy if_missing: https://raw.githubusercontent.com/ipta/pulsar-clock-corrections/main/T2runtime/clock/gps2utc.clk\u001b[0m\n",
      "\u001b[32m2024-08-30 13:43:56.668\u001b[0m | \u001b[34m\u001b[1mDEBUG   \u001b[0m | \u001b[36mpint.observatory.clock_file\u001b[0m:\u001b[36mread_tempo2_clock_file\u001b[0m:\u001b[36m463\u001b[0m - \u001b[34m\u001b[1mLoading TEMPO2-format observatory clock correction file gps2utc.clk (/home/runner/.astropy/cache/download/url/d3c81b5766f4bfb84e65504c8a453085/contents) with bogus_last_correction=False\u001b[0m\n",
      "\u001b[32m2024-08-30 13:43:56.687\u001b[0m | \u001b[1mINFO    \u001b[0m | \u001b[36mpint.observatory\u001b[0m:\u001b[36mfind_clock_file\u001b[0m:\u001b[36m994\u001b[0m - \u001b[1mUsing global clock file for gps2utc.clk with bogus_last_correction=False\u001b[0m\n",
      "\u001b[32m2024-08-30 13:43:56.689\u001b[0m | \u001b[1mINFO    \u001b[0m | \u001b[36mpint.observatory.topo_obs\u001b[0m:\u001b[36mclock_corrections\u001b[0m:\u001b[36m354\u001b[0m - \u001b[1mObservatory magic requires no clock corrections.\u001b[0m\n",
      "\u001b[32m2024-08-30 13:43:59.900\u001b[0m | \u001b[34m\u001b[1mDEBUG   \u001b[0m | \u001b[36mpint.toa\u001b[0m:\u001b[36mcompute_TDBs\u001b[0m:\u001b[36m2270\u001b[0m - \u001b[34m\u001b[1mComputing TDB columns.\u001b[0m\n",
      "\u001b[32m2024-08-30 13:43:59.901\u001b[0m | \u001b[34m\u001b[1mDEBUG   \u001b[0m | \u001b[36mpint.toa\u001b[0m:\u001b[36mcompute_TDBs\u001b[0m:\u001b[36m2291\u001b[0m - \u001b[34m\u001b[1mUsing EPHEM = DE421 for TDB calculation.\u001b[0m\n",
      "\u001b[32m2024-08-30 13:44:00.968\u001b[0m | \u001b[34m\u001b[1mDEBUG   \u001b[0m | \u001b[36mpint.toa\u001b[0m:\u001b[36mcompute_posvels\u001b[0m:\u001b[36m2371\u001b[0m - \u001b[34m\u001b[1mComputing PosVels of observatories and Earth, using DE421\u001b[0m\n",
      "\u001b[32m2024-08-30 13:44:02.516\u001b[0m | \u001b[1mINFO    \u001b[0m | \u001b[36mpint.solar_system_ephemerides\u001b[0m:\u001b[36m_load_kernel_link\u001b[0m:\u001b[36m55\u001b[0m - \u001b[1mSet solar system ephemeris to de421 from download\u001b[0m\n",
      "\u001b[32m2024-08-30 13:44:15.633\u001b[0m | \u001b[34m\u001b[1mDEBUG   \u001b[0m | \u001b[36mpint.toa\u001b[0m:\u001b[36mcompute_posvels\u001b[0m:\u001b[36m2424\u001b[0m - \u001b[34m\u001b[1mSSB obs pos [1.47007462e+11 2.56889811e+10 1.11245045e+10] m\u001b[0m\n",
      "\u001b[32m2024-08-30 13:44:15.688\u001b[0m | \u001b[1mINFO    \u001b[0m | \u001b[36mpint.solar_system_ephemerides\u001b[0m:\u001b[36m_load_kernel_link\u001b[0m:\u001b[36m55\u001b[0m - \u001b[1mSet solar system ephemeris to de421 from download\u001b[0m\n",
      "\u001b[32m2024-08-30 13:44:15.694\u001b[0m | \u001b[34m\u001b[1mDEBUG   \u001b[0m | \u001b[36mpint.toa\u001b[0m:\u001b[36mcompute_posvels\u001b[0m:\u001b[36m2438\u001b[0m - \u001b[34m\u001b[1mAdding columns ssb_obs_pos ssb_obs_vel obs_sun_pos\u001b[0m\n"
     ]
    },
    {
     "name": "stdout",
     "output_type": "stream",
     "text": [
      "CPU times: user 7.15 s, sys: 199 ms, total: 7.35 s\n",
      "Wall time: 20.8 s\n"
     ]
    }
   ],
   "source": [
    "%%time\n",
    "\n",
    "# Set these to True is your observatory has clock correction files.\n",
    "# If it is set to True but your observatory does not have clock correction files, it will be ignored.\n",
    "include_bipm = False\n",
    "include_gps = False\n",
    "\n",
    "# Set this to True or False depending on your ephemeris file.\n",
    "# Here we can see that the 'PLANET_SHAPIRO' entry is 'N' so we set it to True.\n",
    "planets = False\n",
    "\n",
    "# Create a TOA object for each time\n",
    "toas = toa.get_TOAs_array(\n",
    "    times=times,\n",
    "    obs=\"magic\",\n",
    "    errors=1 * u.microsecond,\n",
    "    ephem=\"DE421\",\n",
    "    include_gps=include_gps,\n",
    "    include_bipm=include_bipm,\n",
    "    planets=planets,\n",
    ")"
   ]
  },
  {
   "cell_type": "markdown",
   "id": "db97ea5b",
   "metadata": {},
   "source": [
    "Once we have the TOAs object and the model, the phases are easily computed using the model.phase() method. Note that the phases are computed in the interval [-0.5,0.5]. Most of the time, we use the phases in the interval [0,1] so we have to shift the negative ones."
   ]
  },
  {
   "cell_type": "code",
   "execution_count": 19,
   "id": "6fbf3ad9",
   "metadata": {
    "execution": {
     "iopub.execute_input": "2024-08-30T13:44:15.699970Z",
     "iopub.status.busy": "2024-08-30T13:44:15.699584Z",
     "iopub.status.idle": "2024-08-30T13:44:15.924450Z",
     "shell.execute_reply": "2024-08-30T13:44:15.924037Z"
    }
   },
   "outputs": [
    {
     "name": "stderr",
     "output_type": "stream",
     "text": [
      "\u001b[32m2024-08-30 13:44:15.729\u001b[0m | \u001b[34m\u001b[1mDEBUG   \u001b[0m | \u001b[36mpint.models.glitch\u001b[0m:\u001b[36mglitch_phase\u001b[0m:\u001b[36m221\u001b[0m - \u001b[34m\u001b[1mGlitch phase for glitch 1: 0.0 \u001b[0m\n",
      "\u001b[32m2024-08-30 13:44:15.735\u001b[0m | \u001b[34m\u001b[1mDEBUG   \u001b[0m | \u001b[36mpint.models.absolute_phase\u001b[0m:\u001b[36mget_TZR_toa\u001b[0m:\u001b[36m100\u001b[0m - \u001b[34m\u001b[1mCreating and dealing with the single TZR_toa for absolute phase\u001b[0m\n",
      "\u001b[32m2024-08-30 13:44:15.738\u001b[0m | \u001b[34m\u001b[1mDEBUG   \u001b[0m | \u001b[36mpint.toa\u001b[0m:\u001b[36m__init__\u001b[0m:\u001b[36m1377\u001b[0m - \u001b[34m\u001b[1mNo pulse number flags found in the TOAs\u001b[0m\n",
      "\u001b[32m2024-08-30 13:44:15.738\u001b[0m | \u001b[34m\u001b[1mDEBUG   \u001b[0m | \u001b[36mpint.toa\u001b[0m:\u001b[36mapply_clock_corrections\u001b[0m:\u001b[36m2224\u001b[0m - \u001b[34m\u001b[1mApplying clock corrections (include_bipm = False)\u001b[0m\n",
      "\u001b[32m2024-08-30 13:44:15.760\u001b[0m | \u001b[34m\u001b[1mDEBUG   \u001b[0m | \u001b[36mpint.toa\u001b[0m:\u001b[36mcompute_TDBs\u001b[0m:\u001b[36m2270\u001b[0m - \u001b[34m\u001b[1mComputing TDB columns.\u001b[0m\n",
      "\u001b[32m2024-08-30 13:44:15.761\u001b[0m | \u001b[34m\u001b[1mDEBUG   \u001b[0m | \u001b[36mpint.toa\u001b[0m:\u001b[36mcompute_TDBs\u001b[0m:\u001b[36m2291\u001b[0m - \u001b[34m\u001b[1mUsing EPHEM = DE421 for TDB calculation.\u001b[0m\n",
      "\u001b[32m2024-08-30 13:44:15.764\u001b[0m | \u001b[34m\u001b[1mDEBUG   \u001b[0m | \u001b[36mpint.toa\u001b[0m:\u001b[36mcompute_posvels\u001b[0m:\u001b[36m2371\u001b[0m - \u001b[34m\u001b[1mComputing PosVels of observatories and Earth, using DE421\u001b[0m\n",
      "\u001b[32m2024-08-30 13:44:15.834\u001b[0m | \u001b[1mINFO    \u001b[0m | \u001b[36mpint.solar_system_ephemerides\u001b[0m:\u001b[36m_load_kernel_link\u001b[0m:\u001b[36m55\u001b[0m - \u001b[1mSet solar system ephemeris to de421 from download\u001b[0m\n",
      "\u001b[32m2024-08-30 13:44:15.836\u001b[0m | \u001b[34m\u001b[1mDEBUG   \u001b[0m | \u001b[36mpint.toa\u001b[0m:\u001b[36mcompute_posvels\u001b[0m:\u001b[36m2424\u001b[0m - \u001b[34m\u001b[1mSSB obs pos [-1.49278181e+08  7.07659442e+06  3.07113250e+06] km\u001b[0m\n",
      "\u001b[32m2024-08-30 13:44:15.907\u001b[0m | \u001b[1mINFO    \u001b[0m | \u001b[36mpint.solar_system_ephemerides\u001b[0m:\u001b[36m_load_kernel_link\u001b[0m:\u001b[36m55\u001b[0m - \u001b[1mSet solar system ephemeris to de421 from download\u001b[0m\n",
      "\u001b[32m2024-08-30 13:44:15.908\u001b[0m | \u001b[34m\u001b[1mDEBUG   \u001b[0m | \u001b[36mpint.toa\u001b[0m:\u001b[36mcompute_posvels\u001b[0m:\u001b[36m2438\u001b[0m - \u001b[34m\u001b[1mAdding columns ssb_obs_pos ssb_obs_vel obs_sun_pos\u001b[0m\n",
      "\u001b[32m2024-08-30 13:44:15.909\u001b[0m | \u001b[34m\u001b[1mDEBUG   \u001b[0m | \u001b[36mpint.models.absolute_phase\u001b[0m:\u001b[36mget_TZR_toa\u001b[0m:\u001b[36m121\u001b[0m - \u001b[34m\u001b[1mDone with TZR_toa\u001b[0m\n",
      "\u001b[32m2024-08-30 13:44:15.916\u001b[0m | \u001b[34m\u001b[1mDEBUG   \u001b[0m | \u001b[36mpint.models.glitch\u001b[0m:\u001b[36mglitch_phase\u001b[0m:\u001b[36m221\u001b[0m - \u001b[34m\u001b[1mGlitch phase for glitch 1: 0.0 \u001b[0m\n"
     ]
    }
   ],
   "source": [
    "# Compute phases\n",
    "phases = model.phase(toas, abs_phase=True)[1]\n",
    "\n",
    "# Shift phases to the interval (0,1]\n",
    "phases = np.where(phases < 0.0, phases + 1.0, phases)"
   ]
  },
  {
   "cell_type": "markdown",
   "id": "466a291e",
   "metadata": {},
   "source": [
    "## 3. Adding phases and metadata to an EventList and put it in a new Observation. "
   ]
  },
  {
   "cell_type": "markdown",
   "id": "9edcf15f",
   "metadata": {},
   "source": [
    "Once the phases are computed we need to create a new EventList table that includes both the original information of the events and the phase information in extra columns. This is necessary for Gammapy to read the phases and use them as an extra variable of each event."
   ]
  },
  {
   "cell_type": "code",
   "execution_count": 20,
   "id": "735ac718",
   "metadata": {
    "execution": {
     "iopub.execute_input": "2024-08-30T13:44:15.926698Z",
     "iopub.status.busy": "2024-08-30T13:44:15.926261Z",
     "iopub.status.idle": "2024-08-30T13:44:15.935066Z",
     "shell.execute_reply": "2024-08-30T13:44:15.934677Z"
    }
   },
   "outputs": [],
   "source": [
    "# Extract the table of the EventList\n",
    "table = observation.events.table"
   ]
  },
  {
   "cell_type": "code",
   "execution_count": 21,
   "id": "f3269a2c",
   "metadata": {
    "execution": {
     "iopub.execute_input": "2024-08-30T13:44:15.936748Z",
     "iopub.status.busy": "2024-08-30T13:44:15.936604Z",
     "iopub.status.idle": "2024-08-30T13:44:15.942656Z",
     "shell.execute_reply": "2024-08-30T13:44:15.942183Z"
    }
   },
   "outputs": [
    {
     "data": {
      "text/html": [
       "<div><i>Table length=11189</i>\n",
       "<table id=\"table139641722432016\" class=\"table-striped table-bordered table-condensed\">\n",
       "<thead><tr><th>EVENT_ID</th><th>TIME</th><th>RA</th><th>DEC</th><th>ENERGY</th></tr></thead>\n",
       "<thead><tr><th></th><th>s</th><th>deg</th><th>deg</th><th>TeV</th></tr></thead>\n",
       "<thead><tr><th>int64</th><th>float64</th><th>float32</th><th>float32</th><th>float32</th></tr></thead>\n",
       "<tr><td>2402</td><td>333778852.5099249</td><td>84.59457</td><td>22.03088</td><td>0.18194601</td></tr>\n",
       "<tr><td>2408</td><td>333778852.5267153</td><td>84.21462</td><td>23.44914</td><td>0.08397394</td></tr>\n",
       "<tr><td>2434</td><td>333778852.61315054</td><td>83.524704</td><td>22.725792</td><td>0.10596932</td></tr>\n",
       "<tr><td>2445</td><td>333778852.6690142</td><td>83.76957</td><td>22.451006</td><td>0.19733498</td></tr>\n",
       "<tr><td>2478</td><td>333778852.7627939</td><td>83.478516</td><td>23.484594</td><td>0.08522219</td></tr>\n",
       "<tr><td>2481</td><td>333778852.7778549</td><td>83.71517</td><td>21.985115</td><td>1.0020943</td></tr>\n",
       "<tr><td>2513</td><td>333778852.8644467</td><td>82.421196</td><td>22.567652</td><td>0.14374068</td></tr>\n",
       "<tr><td>2544</td><td>333778852.9826064</td><td>83.64136</td><td>22.041315</td><td>0.10316629</td></tr>\n",
       "<tr><td>2559</td><td>333778853.0269414</td><td>84.069176</td><td>22.97337</td><td>0.047184493</td></tr>\n",
       "<tr><td>...</td><td>...</td><td>...</td><td>...</td><td>...</td></tr>\n",
       "<tr><td>356223</td><td>333780039.4600492</td><td>84.11615</td><td>22.557505</td><td>0.08110082</td></tr>\n",
       "<tr><td>356227</td><td>333780039.47105366</td><td>83.41534</td><td>21.67344</td><td>0.2096362</td></tr>\n",
       "<tr><td>356242</td><td>333780039.5179095</td><td>83.55165</td><td>22.772985</td><td>0.17672835</td></tr>\n",
       "<tr><td>356282</td><td>333780039.62997514</td><td>84.46133</td><td>21.69357</td><td>0.05068718</td></tr>\n",
       "<tr><td>356473</td><td>333780040.3386479</td><td>84.45441</td><td>21.159828</td><td>0.1831569</td></tr>\n",
       "<tr><td>356478</td><td>333780040.3548926</td><td>83.68336</td><td>23.444988</td><td>0.06305169</td></tr>\n",
       "<tr><td>356485</td><td>333780040.3741322</td><td>84.33517</td><td>21.28338</td><td>0.060539745</td></tr>\n",
       "<tr><td>356486</td><td>333780040.3755159</td><td>84.85886</td><td>22.116222</td><td>0.123453744</td></tr>\n",
       "<tr><td>356526</td><td>333780040.52476007</td><td>84.86929</td><td>21.290916</td><td>0.13630114</td></tr>\n",
       "</table></div>"
      ],
      "text/plain": [
       "<Table length=11189>\n",
       "EVENT_ID        TIME            RA       DEC       ENERGY  \n",
       "                 s             deg       deg        TeV    \n",
       " int64        float64        float32   float32    float32  \n",
       "-------- ------------------ --------- --------- -----------\n",
       "    2402  333778852.5099249  84.59457  22.03088  0.18194601\n",
       "    2408  333778852.5267153  84.21462  23.44914  0.08397394\n",
       "    2434 333778852.61315054 83.524704 22.725792  0.10596932\n",
       "    2445  333778852.6690142  83.76957 22.451006  0.19733498\n",
       "    2478  333778852.7627939 83.478516 23.484594  0.08522219\n",
       "    2481  333778852.7778549  83.71517 21.985115   1.0020943\n",
       "    2513  333778852.8644467 82.421196 22.567652  0.14374068\n",
       "    2544  333778852.9826064  83.64136 22.041315  0.10316629\n",
       "    2559  333778853.0269414 84.069176  22.97337 0.047184493\n",
       "     ...                ...       ...       ...         ...\n",
       "  356223  333780039.4600492  84.11615 22.557505  0.08110082\n",
       "  356227 333780039.47105366  83.41534  21.67344   0.2096362\n",
       "  356242  333780039.5179095  83.55165 22.772985  0.17672835\n",
       "  356282 333780039.62997514  84.46133  21.69357  0.05068718\n",
       "  356473  333780040.3386479  84.45441 21.159828   0.1831569\n",
       "  356478  333780040.3548926  83.68336 23.444988  0.06305169\n",
       "  356485  333780040.3741322  84.33517  21.28338 0.060539745\n",
       "  356486  333780040.3755159  84.85886 22.116222 0.123453744\n",
       "  356526 333780040.52476007  84.86929 21.290916  0.13630114"
      ]
     },
     "execution_count": 21,
     "metadata": {},
     "output_type": "execute_result"
    }
   ],
   "source": [
    "# Show original table\n",
    "table"
   ]
  },
  {
   "cell_type": "code",
   "execution_count": 22,
   "id": "6fc6024c",
   "metadata": {
    "execution": {
     "iopub.execute_input": "2024-08-30T13:44:15.944440Z",
     "iopub.status.busy": "2024-08-30T13:44:15.944274Z",
     "iopub.status.idle": "2024-08-30T13:44:15.946972Z",
     "shell.execute_reply": "2024-08-30T13:44:15.946502Z"
    }
   },
   "outputs": [],
   "source": [
    "# Add a column for the phases to the table\n",
    "table[\"PHASE\"] = phases.astype(\"float64\")"
   ]
  },
  {
   "cell_type": "markdown",
   "id": "309cc644",
   "metadata": {},
   "source": [
    "Note that you can add multiple columns to a same file, only the name of the column has to be unique, eg `table['PHASE_SRC1']`, `table['PHASE_SRC2']` etc\""
   ]
  },
  {
   "cell_type": "code",
   "execution_count": 23,
   "id": "7f29187e",
   "metadata": {
    "execution": {
     "iopub.execute_input": "2024-08-30T13:44:15.948805Z",
     "iopub.status.busy": "2024-08-30T13:44:15.948513Z",
     "iopub.status.idle": "2024-08-30T13:44:15.952984Z",
     "shell.execute_reply": "2024-08-30T13:44:15.952497Z"
    }
   },
   "outputs": [
    {
     "data": {
      "text/html": [
       "<div><i>Table length=11189</i>\n",
       "<table id=\"table139641722432016\" class=\"table-striped table-bordered table-condensed\">\n",
       "<thead><tr><th>EVENT_ID</th><th>TIME</th><th>RA</th><th>DEC</th><th>ENERGY</th><th>PHASE</th></tr></thead>\n",
       "<thead><tr><th></th><th>s</th><th>deg</th><th>deg</th><th>TeV</th><th></th></tr></thead>\n",
       "<thead><tr><th>int64</th><th>float64</th><th>float32</th><th>float32</th><th>float32</th><th>float64</th></tr></thead>\n",
       "<tr><td>2402</td><td>333778852.5099249</td><td>84.59457</td><td>22.03088</td><td>0.18194601</td><td>0.3934918682770723</td></tr>\n",
       "<tr><td>2408</td><td>333778852.5267153</td><td>84.21462</td><td>23.44914</td><td>0.08397394</td><td>0.8919525879696997</td></tr>\n",
       "<tr><td>2434</td><td>333778852.61315054</td><td>83.524704</td><td>22.725792</td><td>0.10596932</td><td>0.45797881185987477</td></tr>\n",
       "<tr><td>2445</td><td>333778852.6690142</td><td>83.76957</td><td>22.451006</td><td>0.19733498</td><td>0.11641851092409164</td></tr>\n",
       "<tr><td>2478</td><td>333778852.7627939</td><td>83.478516</td><td>23.484594</td><td>0.08522219</td><td>0.900480594501521</td></tr>\n",
       "<tr><td>2481</td><td>333778852.7778549</td><td>83.71517</td><td>21.985115</td><td>1.0020943</td><td>0.34760107795590983</td></tr>\n",
       "<tr><td>2513</td><td>333778852.8644467</td><td>82.421196</td><td>22.567652</td><td>0.14374068</td><td>0.9182740088921875</td></tr>\n",
       "<tr><td>2544</td><td>333778852.9826064</td><td>83.64136</td><td>22.041315</td><td>0.10316629</td><td>0.42611240294578184</td></tr>\n",
       "<tr><td>2559</td><td>333778853.0269414</td><td>84.069176</td><td>22.97337</td><td>0.047184493</td><td>0.7422974209419148</td></tr>\n",
       "<tr><td>...</td><td>...</td><td>...</td><td>...</td><td>...</td><td>...</td></tr>\n",
       "<tr><td>356223</td><td>333780039.4600492</td><td>84.11615</td><td>22.557505</td><td>0.08110082</td><td>0.6914919573678725</td></tr>\n",
       "<tr><td>356227</td><td>333780039.47105366</td><td>83.41534</td><td>21.67344</td><td>0.2096362</td><td>0.018183853280195963</td></tr>\n",
       "<tr><td>356242</td><td>333780039.5179095</td><td>83.55165</td><td>22.772985</td><td>0.17672835</td><td>0.4092061182772071</td></tr>\n",
       "<tr><td>356282</td><td>333780039.62997514</td><td>84.46133</td><td>21.69357</td><td>0.05068718</td><td>0.7361270045119108</td></tr>\n",
       "<tr><td>356473</td><td>333780040.3386479</td><td>84.45441</td><td>21.159828</td><td>0.1831569</td><td>0.7746788606122589</td></tr>\n",
       "<tr><td>356478</td><td>333780040.3548926</td><td>83.68336</td><td>23.444988</td><td>0.06305169</td><td>0.25693976618589837</td></tr>\n",
       "<tr><td>356485</td><td>333780040.3741322</td><td>84.33517</td><td>21.28338</td><td>0.060539745</td><td>0.8281108809408599</td></tr>\n",
       "<tr><td>356486</td><td>333780040.3755159</td><td>84.85886</td><td>22.116222</td><td>0.123453744</td><td>0.8691880225176731</td></tr>\n",
       "<tr><td>356526</td><td>333780040.52476007</td><td>84.86929</td><td>21.290916</td><td>0.13630114</td><td>0.29983892821377583</td></tr>\n",
       "</table></div>"
      ],
      "text/plain": [
       "<Table length=11189>\n",
       "EVENT_ID        TIME            RA       DEC       ENERGY          PHASE        \n",
       "                 s             deg       deg        TeV                         \n",
       " int64        float64        float32   float32    float32         float64       \n",
       "-------- ------------------ --------- --------- ----------- --------------------\n",
       "    2402  333778852.5099249  84.59457  22.03088  0.18194601   0.3934918682770723\n",
       "    2408  333778852.5267153  84.21462  23.44914  0.08397394   0.8919525879696997\n",
       "    2434 333778852.61315054 83.524704 22.725792  0.10596932  0.45797881185987477\n",
       "    2445  333778852.6690142  83.76957 22.451006  0.19733498  0.11641851092409164\n",
       "    2478  333778852.7627939 83.478516 23.484594  0.08522219    0.900480594501521\n",
       "    2481  333778852.7778549  83.71517 21.985115   1.0020943  0.34760107795590983\n",
       "    2513  333778852.8644467 82.421196 22.567652  0.14374068   0.9182740088921875\n",
       "    2544  333778852.9826064  83.64136 22.041315  0.10316629  0.42611240294578184\n",
       "    2559  333778853.0269414 84.069176  22.97337 0.047184493   0.7422974209419148\n",
       "     ...                ...       ...       ...         ...                  ...\n",
       "  356223  333780039.4600492  84.11615 22.557505  0.08110082   0.6914919573678725\n",
       "  356227 333780039.47105366  83.41534  21.67344   0.2096362 0.018183853280195963\n",
       "  356242  333780039.5179095  83.55165 22.772985  0.17672835   0.4092061182772071\n",
       "  356282 333780039.62997514  84.46133  21.69357  0.05068718   0.7361270045119108\n",
       "  356473  333780040.3386479  84.45441 21.159828   0.1831569   0.7746788606122589\n",
       "  356478  333780040.3548926  83.68336 23.444988  0.06305169  0.25693976618589837\n",
       "  356485  333780040.3741322  84.33517  21.28338 0.060539745   0.8281108809408599\n",
       "  356486  333780040.3755159  84.85886 22.116222 0.123453744   0.8691880225176731\n",
       "  356526 333780040.52476007  84.86929 21.290916  0.13630114  0.29983892821377583"
      ]
     },
     "execution_count": 23,
     "metadata": {},
     "output_type": "execute_result"
    }
   ],
   "source": [
    "# Show table with phases\n",
    "table"
   ]
  },
  {
   "cell_type": "markdown",
   "id": "227ab320",
   "metadata": {},
   "source": [
    "Now we can see that the 'PHASE' column has been added to the table"
   ]
  },
  {
   "cell_type": "markdown",
   "id": "ea9ba223",
   "metadata": {},
   "source": [
    "At this point, we also want to add metadata to the table. It is very useful to keep track of what has been done to the file. For instance, if a file contains multiple pulsars, we want identify quickly which column corresponds to each pulsar. Moreover, experience has shown that it is common to have different ephemeris files for the same pulsar. Therefore, it is useful to have several phase columns in the same file to easily identify which column corresponds to each ephemeris file, parameters, etc.\n",
    "\n",
    "Since there is currently no \"standard\" format for such metadata, we propose a template for the essential information that one wants to save in the header of the event file. First, we look at the present meta info on the table."
   ]
  },
  {
   "cell_type": "code",
   "execution_count": 24,
   "id": "af220557",
   "metadata": {
    "execution": {
     "iopub.execute_input": "2024-08-30T13:44:15.955025Z",
     "iopub.status.busy": "2024-08-30T13:44:15.954655Z",
     "iopub.status.idle": "2024-08-30T13:44:15.958777Z",
     "shell.execute_reply": "2024-08-30T13:44:15.958278Z"
    }
   },
   "outputs": [
    {
     "data": {
      "text/plain": [
       "OrderedDict([('EXTNAME', 'EVENTS'),\n",
       "             ('HDUCLASS', 'GADF'),\n",
       "             ('HDUDOC',\n",
       "              'https://github.com/open-gamma-ray-astro/gamma-astro-data-formats'),\n",
       "             ('HDUVERS', '0.2'),\n",
       "             ('HDUCLAS1', 'EVENTS'),\n",
       "             ('OBS_ID', 5029747),\n",
       "             ('TSTART', 333778852.435217),\n",
       "             ('TSTOP', 333780040.546979),\n",
       "             ('ONTIME', 1188.111761868),\n",
       "             ('LIVETIME', 1178.06621791733),\n",
       "             ('DEADC', 0.991545),\n",
       "             ('EQUINOX', 2000.0),\n",
       "             ('RADECSYS', 'FK5'),\n",
       "             ('ORIGIN', 'MAGIC Collaboration'),\n",
       "             ('TELESCOP', 'MAGIC'),\n",
       "             ('INSTRUME', 'MAGIC stereo'),\n",
       "             ('CREATOR', 'MAGIC_DL3'),\n",
       "             ('VERSION', '0.1.8'),\n",
       "             ('MJDREFI', 52706),\n",
       "             ('MJDREFF', 0.0),\n",
       "             ('TIMEUNIT', 's'),\n",
       "             ('TIMESYS', 'UTC'),\n",
       "             ('TIMEREF', 'local'),\n",
       "             ('OBJECT', 'CrabNebula'),\n",
       "             ('RA_OBJ', 83.63333),\n",
       "             ('DEC_OBJ', 22.01444),\n",
       "             ('OBS_MODE', 'POINTING'),\n",
       "             ('RA_PNT', 83.98333),\n",
       "             ('DEC_PNT', 22.24389),\n",
       "             ('GEOLON', -17.89),\n",
       "             ('GEOLAT', 28.761944),\n",
       "             ('ALTITUDE', 2231.28),\n",
       "             ('ALT_PNT', 69.69974),\n",
       "             ('AZ_PNT', 103.8848)])"
      ]
     },
     "execution_count": 24,
     "metadata": {},
     "output_type": "execute_result"
    }
   ],
   "source": [
    "table.meta"
   ]
  },
  {
   "cell_type": "code",
   "execution_count": 25,
   "id": "c2285fcd",
   "metadata": {
    "execution": {
     "iopub.execute_input": "2024-08-30T13:44:15.960712Z",
     "iopub.status.busy": "2024-08-30T13:44:15.960430Z",
     "iopub.status.idle": "2024-08-30T13:44:15.964154Z",
     "shell.execute_reply": "2024-08-30T13:44:15.963725Z"
    }
   },
   "outputs": [],
   "source": [
    "def get_log(ephemeris_file, phase_column_name=\"PHASE\"):\n",
    "    return (\n",
    "        \"COLUMN_PHASE: \"\n",
    "        + str(phase_column_name)\n",
    "        + \"; PINT_VERS: \"\n",
    "        + pint.__version__\n",
    "        + \"; GAMMAPY_VERS: \"\n",
    "        + gammapy.__version__\n",
    "        + \"; EPHEM_FILE: \"\n",
    "        + ephemeris_file\n",
    "        + \"; PSRJ :\"\n",
    "        + str(model.PSR.value)\n",
    "        + \"; START: \"\n",
    "        + str(model.START.value)\n",
    "        + \"; FINISH: \"\n",
    "        + str(model.FINISH.value)\n",
    "        + \"; TZRMJD: \"\n",
    "        + str(model.TZRMJD.value)\n",
    "        + \"; TZRSITE: \"\n",
    "        + str(model.TZRSITE.value)\n",
    "        + \"; TZRFREQ: \"\n",
    "        + str(model.TZRFRQ.value)\n",
    "        + \"; EPHEM: \"\n",
    "        + str(model.EPHEM.value)\n",
    "        + \"; EPHEM_RA: \"\n",
    "        + str(model.RAJ.value)\n",
    "        + \"; EPHEM_DEC: \"\n",
    "        + str(model.DECJ.value)\n",
    "        + \"; PHASE_OFFSET: \"\n",
    "        + \"default = 0\"\n",
    "        + \"; DATE: \"\n",
    "        + str(Time.now().mjd)\n",
    "        + \";\"\n",
    "    )"
   ]
  },
  {
   "cell_type": "code",
   "execution_count": 26,
   "id": "8c866a5c",
   "metadata": {
    "execution": {
     "iopub.execute_input": "2024-08-30T13:44:15.966078Z",
     "iopub.status.busy": "2024-08-30T13:44:15.965699Z",
     "iopub.status.idle": "2024-08-30T13:44:15.968960Z",
     "shell.execute_reply": "2024-08-30T13:44:15.968447Z"
    }
   },
   "outputs": [
    {
     "name": "stdout",
     "output_type": "stream",
     "text": [
      "COLUMN_PHASE: PHASE; PINT_VERS: 1.0.1; GAMMAPY_VERS: 1.2; EPHEM_FILE: 0534+2200_ApJ_708_1254_2010.par; PSRJ :J0534+2200; START: 54686.1526259; FINISH: 56583.1591704; TZRMJD: 55638.155277599951656; TZRSITE: coe; TZRFREQ: inf; EPHEM: DE405; EPHEM_RA: 5.575538888888889; EPHEM_DEC: 22.01447222222222; PHASE_OFFSET: default = 0; DATE: 60552.572407022526;\n"
     ]
    }
   ],
   "source": [
    "phase_log = get_log(ephemeris_file=ephemeris_file, phase_column_name=\"PHASE\")\n",
    "print(phase_log)"
   ]
  },
  {
   "cell_type": "code",
   "execution_count": 27,
   "id": "5a3e56d2",
   "metadata": {
    "execution": {
     "iopub.execute_input": "2024-08-30T13:44:15.971018Z",
     "iopub.status.busy": "2024-08-30T13:44:15.970621Z",
     "iopub.status.idle": "2024-08-30T13:44:15.973109Z",
     "shell.execute_reply": "2024-08-30T13:44:15.972658Z"
    }
   },
   "outputs": [],
   "source": [
    "# Add the generated string to the meta data of the table\n",
    "table.meta[\"PH_LOG\"] = phase_log"
   ]
  },
  {
   "cell_type": "code",
   "execution_count": 28,
   "id": "f6b44e25",
   "metadata": {
    "execution": {
     "iopub.execute_input": "2024-08-30T13:44:15.974924Z",
     "iopub.status.busy": "2024-08-30T13:44:15.974603Z",
     "iopub.status.idle": "2024-08-30T13:44:15.978533Z",
     "shell.execute_reply": "2024-08-30T13:44:15.978032Z"
    }
   },
   "outputs": [
    {
     "data": {
      "text/plain": [
       "OrderedDict([('EXTNAME', 'EVENTS'),\n",
       "             ('HDUCLASS', 'GADF'),\n",
       "             ('HDUDOC',\n",
       "              'https://github.com/open-gamma-ray-astro/gamma-astro-data-formats'),\n",
       "             ('HDUVERS', '0.2'),\n",
       "             ('HDUCLAS1', 'EVENTS'),\n",
       "             ('OBS_ID', 5029747),\n",
       "             ('TSTART', 333778852.435217),\n",
       "             ('TSTOP', 333780040.546979),\n",
       "             ('ONTIME', 1188.111761868),\n",
       "             ('LIVETIME', 1178.06621791733),\n",
       "             ('DEADC', 0.991545),\n",
       "             ('EQUINOX', 2000.0),\n",
       "             ('RADECSYS', 'FK5'),\n",
       "             ('ORIGIN', 'MAGIC Collaboration'),\n",
       "             ('TELESCOP', 'MAGIC'),\n",
       "             ('INSTRUME', 'MAGIC stereo'),\n",
       "             ('CREATOR', 'MAGIC_DL3'),\n",
       "             ('VERSION', '0.1.8'),\n",
       "             ('MJDREFI', 52706),\n",
       "             ('MJDREFF', 0.0),\n",
       "             ('TIMEUNIT', 's'),\n",
       "             ('TIMESYS', 'UTC'),\n",
       "             ('TIMEREF', 'local'),\n",
       "             ('OBJECT', 'CrabNebula'),\n",
       "             ('RA_OBJ', 83.63333),\n",
       "             ('DEC_OBJ', 22.01444),\n",
       "             ('OBS_MODE', 'POINTING'),\n",
       "             ('RA_PNT', 83.98333),\n",
       "             ('DEC_PNT', 22.24389),\n",
       "             ('GEOLON', -17.89),\n",
       "             ('GEOLAT', 28.761944),\n",
       "             ('ALTITUDE', 2231.28),\n",
       "             ('ALT_PNT', 69.69974),\n",
       "             ('AZ_PNT', 103.8848),\n",
       "             ('PH_LOG',\n",
       "              'COLUMN_PHASE: PHASE; PINT_VERS: 1.0.1; GAMMAPY_VERS: 1.2; EPHEM_FILE: 0534+2200_ApJ_708_1254_2010.par; PSRJ :J0534+2200; START: 54686.1526259; FINISH: 56583.1591704; TZRMJD: 55638.155277599951656; TZRSITE: coe; TZRFREQ: inf; EPHEM: DE405; EPHEM_RA: 5.575538888888889; EPHEM_DEC: 22.01447222222222; PHASE_OFFSET: default = 0; DATE: 60552.572407022526;')])"
      ]
     },
     "execution_count": 28,
     "metadata": {},
     "output_type": "execute_result"
    }
   ],
   "source": [
    "table.meta"
   ]
  },
  {
   "cell_type": "markdown",
   "id": "26592cbb",
   "metadata": {},
   "source": [
    "Once this is done, we can put back the table in a new `EventList` object and in a new `Observation` object. "
   ]
  },
  {
   "cell_type": "code",
   "execution_count": 29,
   "id": "12545bff",
   "metadata": {
    "execution": {
     "iopub.execute_input": "2024-08-30T13:44:15.980471Z",
     "iopub.status.busy": "2024-08-30T13:44:15.980173Z",
     "iopub.status.idle": "2024-08-30T13:44:16.013868Z",
     "shell.execute_reply": "2024-08-30T13:44:16.013376Z"
    }
   },
   "outputs": [
    {
     "name": "stderr",
     "output_type": "stream",
     "text": [
      "'THETA' axis is stored as a scalar -- converting to 1D array.\n",
      "'THETA' axis is stored as a scalar -- converting to 1D array.\n",
      "'THETA' axis is stored as a scalar -- converting to 1D array.\n"
     ]
    }
   ],
   "source": [
    "# Create new event list and add it to observation object\n",
    "new_event_list = EventList(table)\n",
    "new_obs = observation.copy(in_memory=True, events=new_event_list)"
   ]
  },
  {
   "cell_type": "code",
   "execution_count": 30,
   "id": "1ac16c51",
   "metadata": {
    "execution": {
     "iopub.execute_input": "2024-08-30T13:44:16.015882Z",
     "iopub.status.busy": "2024-08-30T13:44:16.015596Z",
     "iopub.status.idle": "2024-08-30T13:44:16.020193Z",
     "shell.execute_reply": "2024-08-30T13:44:16.019715Z"
    }
   },
   "outputs": [
    {
     "data": {
      "text/html": [
       "<div><i>Table length=11189</i>\n",
       "<table id=\"table139641722432016\" class=\"table-striped table-bordered table-condensed\">\n",
       "<thead><tr><th>EVENT_ID</th><th>TIME</th><th>RA</th><th>DEC</th><th>ENERGY</th><th>PHASE</th></tr></thead>\n",
       "<thead><tr><th></th><th>s</th><th>deg</th><th>deg</th><th>TeV</th><th></th></tr></thead>\n",
       "<thead><tr><th>int64</th><th>float64</th><th>float32</th><th>float32</th><th>float32</th><th>float64</th></tr></thead>\n",
       "<tr><td>2402</td><td>333778852.5099249</td><td>84.59457</td><td>22.03088</td><td>0.18194601</td><td>0.3934918682770723</td></tr>\n",
       "<tr><td>2408</td><td>333778852.5267153</td><td>84.21462</td><td>23.44914</td><td>0.08397394</td><td>0.8919525879696997</td></tr>\n",
       "<tr><td>2434</td><td>333778852.61315054</td><td>83.524704</td><td>22.725792</td><td>0.10596932</td><td>0.45797881185987477</td></tr>\n",
       "<tr><td>2445</td><td>333778852.6690142</td><td>83.76957</td><td>22.451006</td><td>0.19733498</td><td>0.11641851092409164</td></tr>\n",
       "<tr><td>2478</td><td>333778852.7627939</td><td>83.478516</td><td>23.484594</td><td>0.08522219</td><td>0.900480594501521</td></tr>\n",
       "<tr><td>2481</td><td>333778852.7778549</td><td>83.71517</td><td>21.985115</td><td>1.0020943</td><td>0.34760107795590983</td></tr>\n",
       "<tr><td>2513</td><td>333778852.8644467</td><td>82.421196</td><td>22.567652</td><td>0.14374068</td><td>0.9182740088921875</td></tr>\n",
       "<tr><td>2544</td><td>333778852.9826064</td><td>83.64136</td><td>22.041315</td><td>0.10316629</td><td>0.42611240294578184</td></tr>\n",
       "<tr><td>2559</td><td>333778853.0269414</td><td>84.069176</td><td>22.97337</td><td>0.047184493</td><td>0.7422974209419148</td></tr>\n",
       "<tr><td>...</td><td>...</td><td>...</td><td>...</td><td>...</td><td>...</td></tr>\n",
       "<tr><td>356223</td><td>333780039.4600492</td><td>84.11615</td><td>22.557505</td><td>0.08110082</td><td>0.6914919573678725</td></tr>\n",
       "<tr><td>356227</td><td>333780039.47105366</td><td>83.41534</td><td>21.67344</td><td>0.2096362</td><td>0.018183853280195963</td></tr>\n",
       "<tr><td>356242</td><td>333780039.5179095</td><td>83.55165</td><td>22.772985</td><td>0.17672835</td><td>0.4092061182772071</td></tr>\n",
       "<tr><td>356282</td><td>333780039.62997514</td><td>84.46133</td><td>21.69357</td><td>0.05068718</td><td>0.7361270045119108</td></tr>\n",
       "<tr><td>356473</td><td>333780040.3386479</td><td>84.45441</td><td>21.159828</td><td>0.1831569</td><td>0.7746788606122589</td></tr>\n",
       "<tr><td>356478</td><td>333780040.3548926</td><td>83.68336</td><td>23.444988</td><td>0.06305169</td><td>0.25693976618589837</td></tr>\n",
       "<tr><td>356485</td><td>333780040.3741322</td><td>84.33517</td><td>21.28338</td><td>0.060539745</td><td>0.8281108809408599</td></tr>\n",
       "<tr><td>356486</td><td>333780040.3755159</td><td>84.85886</td><td>22.116222</td><td>0.123453744</td><td>0.8691880225176731</td></tr>\n",
       "<tr><td>356526</td><td>333780040.52476007</td><td>84.86929</td><td>21.290916</td><td>0.13630114</td><td>0.29983892821377583</td></tr>\n",
       "</table></div>"
      ],
      "text/plain": [
       "<Table length=11189>\n",
       "EVENT_ID        TIME            RA       DEC       ENERGY          PHASE        \n",
       "                 s             deg       deg        TeV                         \n",
       " int64        float64        float32   float32    float32         float64       \n",
       "-------- ------------------ --------- --------- ----------- --------------------\n",
       "    2402  333778852.5099249  84.59457  22.03088  0.18194601   0.3934918682770723\n",
       "    2408  333778852.5267153  84.21462  23.44914  0.08397394   0.8919525879696997\n",
       "    2434 333778852.61315054 83.524704 22.725792  0.10596932  0.45797881185987477\n",
       "    2445  333778852.6690142  83.76957 22.451006  0.19733498  0.11641851092409164\n",
       "    2478  333778852.7627939 83.478516 23.484594  0.08522219    0.900480594501521\n",
       "    2481  333778852.7778549  83.71517 21.985115   1.0020943  0.34760107795590983\n",
       "    2513  333778852.8644467 82.421196 22.567652  0.14374068   0.9182740088921875\n",
       "    2544  333778852.9826064  83.64136 22.041315  0.10316629  0.42611240294578184\n",
       "    2559  333778853.0269414 84.069176  22.97337 0.047184493   0.7422974209419148\n",
       "     ...                ...       ...       ...         ...                  ...\n",
       "  356223  333780039.4600492  84.11615 22.557505  0.08110082   0.6914919573678725\n",
       "  356227 333780039.47105366  83.41534  21.67344   0.2096362 0.018183853280195963\n",
       "  356242  333780039.5179095  83.55165 22.772985  0.17672835   0.4092061182772071\n",
       "  356282 333780039.62997514  84.46133  21.69357  0.05068718   0.7361270045119108\n",
       "  356473  333780040.3386479  84.45441 21.159828   0.1831569   0.7746788606122589\n",
       "  356478  333780040.3548926  83.68336 23.444988  0.06305169  0.25693976618589837\n",
       "  356485  333780040.3741322  84.33517  21.28338 0.060539745   0.8281108809408599\n",
       "  356486  333780040.3755159  84.85886 22.116222 0.123453744   0.8691880225176731\n",
       "  356526 333780040.52476007  84.86929 21.290916  0.13630114  0.29983892821377583"
      ]
     },
     "execution_count": 30,
     "metadata": {},
     "output_type": "execute_result"
    }
   ],
   "source": [
    "new_obs.events.table"
   ]
  },
  {
   "cell_type": "markdown",
   "id": "934d147a",
   "metadata": {},
   "source": [
    "## 4. Save new Event List and writing a modify HDU index table"
   ]
  },
  {
   "cell_type": "markdown",
   "id": "e369d2dc",
   "metadata": {},
   "source": [
    "In the following, we show how to write the files in a directory contained in the original datastore directory. This follows the logic of DL3 data store and facilitates the manipulation of the HDU table.\n",
    "\n",
    "If you do not want to save the events files bur rather directly perform the pulsar analysis, you can skip both this step and the step of the handling metadata. However, be aware that for large datasets, the computation of the phases can take tens of minutes."
   ]
  },
  {
   "cell_type": "code",
   "execution_count": 31,
   "id": "f3c8410c",
   "metadata": {
    "execution": {
     "iopub.execute_input": "2024-08-30T13:44:16.022167Z",
     "iopub.status.busy": "2024-08-30T13:44:16.021883Z",
     "iopub.status.idle": "2024-08-30T13:44:16.025164Z",
     "shell.execute_reply": "2024-08-30T13:44:16.024650Z"
    }
   },
   "outputs": [
    {
     "data": {
      "text/plain": [
       "PosixPath('/home/runner/work/gammapy-recipes/gammapy-recipes/gammapy-datasets/1.2/magic/rad_max/data')"
      ]
     },
     "execution_count": 31,
     "metadata": {},
     "output_type": "execute_result"
    }
   ],
   "source": [
    "data_store.hdu_table.base_dir"
   ]
  },
  {
   "cell_type": "code",
   "execution_count": 32,
   "id": "8fd2ce31",
   "metadata": {
    "execution": {
     "iopub.execute_input": "2024-08-30T13:44:16.027018Z",
     "iopub.status.busy": "2024-08-30T13:44:16.026717Z",
     "iopub.status.idle": "2024-08-30T13:44:16.029663Z",
     "shell.execute_reply": "2024-08-30T13:44:16.029226Z"
    }
   },
   "outputs": [],
   "source": [
    "# Define output directory and filename\n",
    "datastore_dir = str(data_store.hdu_table.base_dir) + \"/\"\n",
    "output_directory = \"pulsar_events_file/\"\n",
    "output_path = datastore_dir + output_directory\n",
    "filename = f\"dl3_pulsar_{observation.obs_id:04d}.fits.gz\"\n",
    "file_path = output_path + filename\n",
    "\n",
    "Path(output_path).mkdir(parents=True, exist_ok=True)"
   ]
  },
  {
   "cell_type": "code",
   "execution_count": 33,
   "id": "e6e38fc1",
   "metadata": {
    "execution": {
     "iopub.execute_input": "2024-08-30T13:44:16.031501Z",
     "iopub.status.busy": "2024-08-30T13:44:16.031183Z",
     "iopub.status.idle": "2024-08-30T13:44:16.034289Z",
     "shell.execute_reply": "2024-08-30T13:44:16.033820Z"
    }
   },
   "outputs": [
    {
     "data": {
      "text/plain": [
       "'/home/runner/work/gammapy-recipes/gammapy-recipes/gammapy-datasets/1.2/magic/rad_max/data/pulsar_events_file/'"
      ]
     },
     "execution_count": 33,
     "metadata": {},
     "output_type": "execute_result"
    }
   ],
   "source": [
    "output_path"
   ]
  },
  {
   "cell_type": "code",
   "execution_count": 34,
   "id": "f339c797",
   "metadata": {
    "execution": {
     "iopub.execute_input": "2024-08-30T13:44:16.036030Z",
     "iopub.status.busy": "2024-08-30T13:44:16.035881Z",
     "iopub.status.idle": "2024-08-30T13:44:16.168565Z",
     "shell.execute_reply": "2024-08-30T13:44:16.168088Z"
    }
   },
   "outputs": [
    {
     "name": "stdout",
     "output_type": "stream",
     "text": [
      "Writing output file in /home/runner/work/gammapy-recipes/gammapy-recipes/gammapy-datasets/1.2/magic/rad_max/data/pulsar_events_file/dl3_pulsar_5029747.fits.gz\n"
     ]
    }
   ],
   "source": [
    "# Save the observation object in the specified file_path\n",
    "print(\"Writing output file in \" + str(file_path))\n",
    "new_obs.write(path=file_path, include_irfs=False, overwrite=True)"
   ]
  },
  {
   "cell_type": "markdown",
   "id": "7250c1af",
   "metadata": {},
   "source": [
    "Once the file has been written, we want to write a modified version of the HDU table. This is mandatory if we want to open the phased events file together with its associated IRFs. "
   ]
  },
  {
   "cell_type": "code",
   "execution_count": 35,
   "id": "4b8dd431",
   "metadata": {
    "execution": {
     "iopub.execute_input": "2024-08-30T13:44:16.170679Z",
     "iopub.status.busy": "2024-08-30T13:44:16.170369Z",
     "iopub.status.idle": "2024-08-30T13:44:16.175339Z",
     "shell.execute_reply": "2024-08-30T13:44:16.174869Z"
    }
   },
   "outputs": [
    {
     "data": {
      "text/html": [
       "<div><i>HDUIndexTable length=10</i>\n",
       "<table id=\"table139641579657808\" class=\"table-striped table-bordered table-condensed\">\n",
       "<thead><tr><th>OBS_ID</th><th>HDU_TYPE</th><th>HDU_CLASS</th><th>FILE_DIR</th><th>FILE_NAME</th><th>HDU_NAME</th></tr></thead>\n",
       "<thead><tr><th>int64</th><th>bytes30</th><th>bytes30</th><th>bytes100</th><th>bytes50</th><th>bytes30</th></tr></thead>\n",
       "<tr><td>5029748</td><td>events</td><td>events</td><td>./</td><td>20131004_05029748_DL3_CrabNebula-W0.40+215.fits</td><td>EVENTS</td></tr>\n",
       "<tr><td>5029748</td><td>gti</td><td>gti</td><td>./</td><td>20131004_05029748_DL3_CrabNebula-W0.40+215.fits</td><td>GTI</td></tr>\n",
       "<tr><td>5029748</td><td>rad_max</td><td>rad_max_2d</td><td>./</td><td>20131004_05029748_DL3_CrabNebula-W0.40+215.fits</td><td>RAD_MAX</td></tr>\n",
       "<tr><td>5029748</td><td>aeff</td><td>aeff_2d</td><td>./</td><td>20131004_05029748_DL3_CrabNebula-W0.40+215.fits</td><td>EFFECTIVE AREA</td></tr>\n",
       "<tr><td>5029748</td><td>edisp</td><td>edisp_2d</td><td>./</td><td>20131004_05029748_DL3_CrabNebula-W0.40+215.fits</td><td>ENERGY DISPERSION</td></tr>\n",
       "<tr><td>5029747</td><td>events</td><td>events</td><td>./</td><td>20131004_05029747_DL3_CrabNebula-W0.40+035.fits</td><td>EVENTS</td></tr>\n",
       "<tr><td>5029747</td><td>gti</td><td>gti</td><td>./</td><td>20131004_05029747_DL3_CrabNebula-W0.40+035.fits</td><td>GTI</td></tr>\n",
       "<tr><td>5029747</td><td>rad_max</td><td>rad_max_2d</td><td>./</td><td>20131004_05029747_DL3_CrabNebula-W0.40+035.fits</td><td>RAD_MAX</td></tr>\n",
       "<tr><td>5029747</td><td>aeff</td><td>aeff_2d</td><td>./</td><td>20131004_05029747_DL3_CrabNebula-W0.40+035.fits</td><td>EFFECTIVE AREA</td></tr>\n",
       "<tr><td>5029747</td><td>edisp</td><td>edisp_2d</td><td>./</td><td>20131004_05029747_DL3_CrabNebula-W0.40+035.fits</td><td>ENERGY DISPERSION</td></tr>\n",
       "</table></div>"
      ],
      "text/plain": [
       "<HDUIndexTable length=10>\n",
       " OBS_ID HDU_TYPE ...      HDU_NAME    \n",
       " int64  bytes30  ...      bytes30     \n",
       "------- -------- ... -----------------\n",
       "5029748   events ...            EVENTS\n",
       "5029748      gti ...               GTI\n",
       "5029748  rad_max ...           RAD_MAX\n",
       "5029748     aeff ...    EFFECTIVE AREA\n",
       "5029748    edisp ... ENERGY DISPERSION\n",
       "5029747   events ...            EVENTS\n",
       "5029747      gti ...               GTI\n",
       "5029747  rad_max ...           RAD_MAX\n",
       "5029747     aeff ...    EFFECTIVE AREA\n",
       "5029747    edisp ... ENERGY DISPERSION"
      ]
     },
     "execution_count": 35,
     "metadata": {},
     "output_type": "execute_result"
    }
   ],
   "source": [
    "# Print the current data store HDU table.\n",
    "new_hdu = data_store.hdu_table.copy()\n",
    "new_hdu"
   ]
  },
  {
   "cell_type": "code",
   "execution_count": 36,
   "id": "6f37e101",
   "metadata": {
    "execution": {
     "iopub.execute_input": "2024-08-30T13:44:16.177243Z",
     "iopub.status.busy": "2024-08-30T13:44:16.176916Z",
     "iopub.status.idle": "2024-08-30T13:44:16.179856Z",
     "shell.execute_reply": "2024-08-30T13:44:16.179447Z"
    }
   },
   "outputs": [],
   "source": [
    "for entry in new_hdu:\n",
    "    if (entry[\"HDU_NAME\"] == \"EVENTS\") and (\n",
    "        entry[\"OBS_ID\"] == observation.obs_id\n",
    "    ):\n",
    "        entry[\"FILE_DIR\"] = \"./\" + str(output_directory)\n",
    "        entry[\"FILE_NAME\"] = filename"
   ]
  },
  {
   "cell_type": "code",
   "execution_count": 37,
   "id": "d89a7739",
   "metadata": {
    "execution": {
     "iopub.execute_input": "2024-08-30T13:44:16.181702Z",
     "iopub.status.busy": "2024-08-30T13:44:16.181410Z",
     "iopub.status.idle": "2024-08-30T13:44:16.185572Z",
     "shell.execute_reply": "2024-08-30T13:44:16.185152Z"
    }
   },
   "outputs": [
    {
     "data": {
      "text/html": [
       "<div><i>HDUIndexTable length=10</i>\n",
       "<table id=\"table139641579657808\" class=\"table-striped table-bordered table-condensed\">\n",
       "<thead><tr><th>OBS_ID</th><th>HDU_TYPE</th><th>HDU_CLASS</th><th>FILE_DIR</th><th>FILE_NAME</th><th>HDU_NAME</th></tr></thead>\n",
       "<thead><tr><th>int64</th><th>bytes30</th><th>bytes30</th><th>bytes100</th><th>bytes50</th><th>bytes30</th></tr></thead>\n",
       "<tr><td>5029748</td><td>events</td><td>events</td><td>./</td><td>20131004_05029748_DL3_CrabNebula-W0.40+215.fits</td><td>EVENTS</td></tr>\n",
       "<tr><td>5029748</td><td>gti</td><td>gti</td><td>./</td><td>20131004_05029748_DL3_CrabNebula-W0.40+215.fits</td><td>GTI</td></tr>\n",
       "<tr><td>5029748</td><td>rad_max</td><td>rad_max_2d</td><td>./</td><td>20131004_05029748_DL3_CrabNebula-W0.40+215.fits</td><td>RAD_MAX</td></tr>\n",
       "<tr><td>5029748</td><td>aeff</td><td>aeff_2d</td><td>./</td><td>20131004_05029748_DL3_CrabNebula-W0.40+215.fits</td><td>EFFECTIVE AREA</td></tr>\n",
       "<tr><td>5029748</td><td>edisp</td><td>edisp_2d</td><td>./</td><td>20131004_05029748_DL3_CrabNebula-W0.40+215.fits</td><td>ENERGY DISPERSION</td></tr>\n",
       "<tr><td>5029747</td><td>events</td><td>events</td><td>./pulsar_events_file/</td><td>dl3_pulsar_5029747.fits.gz</td><td>EVENTS</td></tr>\n",
       "<tr><td>5029747</td><td>gti</td><td>gti</td><td>./</td><td>20131004_05029747_DL3_CrabNebula-W0.40+035.fits</td><td>GTI</td></tr>\n",
       "<tr><td>5029747</td><td>rad_max</td><td>rad_max_2d</td><td>./</td><td>20131004_05029747_DL3_CrabNebula-W0.40+035.fits</td><td>RAD_MAX</td></tr>\n",
       "<tr><td>5029747</td><td>aeff</td><td>aeff_2d</td><td>./</td><td>20131004_05029747_DL3_CrabNebula-W0.40+035.fits</td><td>EFFECTIVE AREA</td></tr>\n",
       "<tr><td>5029747</td><td>edisp</td><td>edisp_2d</td><td>./</td><td>20131004_05029747_DL3_CrabNebula-W0.40+035.fits</td><td>ENERGY DISPERSION</td></tr>\n",
       "</table></div>"
      ],
      "text/plain": [
       "<HDUIndexTable length=10>\n",
       " OBS_ID HDU_TYPE ...      HDU_NAME    \n",
       " int64  bytes30  ...      bytes30     \n",
       "------- -------- ... -----------------\n",
       "5029748   events ...            EVENTS\n",
       "5029748      gti ...               GTI\n",
       "5029748  rad_max ...           RAD_MAX\n",
       "5029748     aeff ...    EFFECTIVE AREA\n",
       "5029748    edisp ... ENERGY DISPERSION\n",
       "5029747   events ...            EVENTS\n",
       "5029747      gti ...               GTI\n",
       "5029747  rad_max ...           RAD_MAX\n",
       "5029747     aeff ...    EFFECTIVE AREA\n",
       "5029747    edisp ... ENERGY DISPERSION"
      ]
     },
     "execution_count": 37,
     "metadata": {},
     "output_type": "execute_result"
    }
   ],
   "source": [
    "new_hdu"
   ]
  },
  {
   "cell_type": "markdown",
   "id": "19453d2d",
   "metadata": {},
   "source": [
    "We see that the `FILE_DIR`and `FILE_NAME`entry have been modified for our phased events file."
   ]
  },
  {
   "cell_type": "markdown",
   "id": "e08bf493",
   "metadata": {},
   "source": [
    "Finally, we need to save the new HDU table in the original DL3 directory. One must be very careful with naming the new HDU file, such that it does not have the same name as the original HDU file of the data store. Otherwise, the original HDU file will be overwritten."
   ]
  },
  {
   "cell_type": "code",
   "execution_count": 38,
   "id": "b1633cd5",
   "metadata": {
    "execution": {
     "iopub.execute_input": "2024-08-30T13:44:16.187343Z",
     "iopub.status.busy": "2024-08-30T13:44:16.187186Z",
     "iopub.status.idle": "2024-08-30T13:44:16.197275Z",
     "shell.execute_reply": "2024-08-30T13:44:16.196738Z"
    }
   },
   "outputs": [],
   "source": [
    "new_hdu.write(\n",
    "    datastore_dir + \"hdu-index-pulsar.fits.gz\", format=\"fits\", overwrite=True\n",
    ")"
   ]
  },
  {
   "cell_type": "markdown",
   "id": "e92cf68c",
   "metadata": {},
   "source": [
    "**Note: Here we demonstrate only one approach that could be useful, showing the steps to save the new Event files in a directory and generate a new modified HDU index table. However, the user is free to choose the absolute path of the EventList and DataStore. Another approach, for instance, could be making a full copy of the DataStore, or changing the location of the pulsar event files to one that is more convenient for the user.**"
   ]
  },
  {
   "cell_type": "markdown",
   "id": "6dfca2b8",
   "metadata": {},
   "source": [
    "## 5. Opening the new DataStore"
   ]
  },
  {
   "cell_type": "markdown",
   "id": "e1036448",
   "metadata": {},
   "source": [
    "Once all of this is done, we just have to open the data store using DataStore.from_dir() and pass the pulsar HDU table to it :"
   ]
  },
  {
   "cell_type": "code",
   "execution_count": 39,
   "id": "88a0e9c1",
   "metadata": {
    "execution": {
     "iopub.execute_input": "2024-08-30T13:44:16.199418Z",
     "iopub.status.busy": "2024-08-30T13:44:16.199114Z",
     "iopub.status.idle": "2024-08-30T13:44:16.210872Z",
     "shell.execute_reply": "2024-08-30T13:44:16.210389Z"
    }
   },
   "outputs": [],
   "source": [
    "pulsar_datastore = DataStore.from_dir(\n",
    "    DL3_dir, hdu_table_filename=\"hdu-index-pulsar.fits.gz\"\n",
    ")"
   ]
  },
  {
   "cell_type": "code",
   "execution_count": 40,
   "id": "f7c60c18",
   "metadata": {
    "execution": {
     "iopub.execute_input": "2024-08-30T13:44:16.213029Z",
     "iopub.status.busy": "2024-08-30T13:44:16.212605Z",
     "iopub.status.idle": "2024-08-30T13:44:16.217590Z",
     "shell.execute_reply": "2024-08-30T13:44:16.217079Z"
    }
   },
   "outputs": [
    {
     "data": {
      "text/plain": [
       "['events', 'gti', 'aeff', 'edisp', 'rad_max']"
      ]
     },
     "execution_count": 40,
     "metadata": {},
     "output_type": "execute_result"
    }
   ],
   "source": [
    "observations = pulsar_datastore.get_observations(\n",
    "    [5029747], required_irf=\"point-like\"\n",
    ")\n",
    "observations[0].available_hdus"
   ]
  },
  {
   "cell_type": "code",
   "execution_count": 41,
   "id": "4ae8ebd2",
   "metadata": {
    "execution": {
     "iopub.execute_input": "2024-08-30T13:44:16.219467Z",
     "iopub.status.busy": "2024-08-30T13:44:16.219161Z",
     "iopub.status.idle": "2024-08-30T13:44:16.233657Z",
     "shell.execute_reply": "2024-08-30T13:44:16.233153Z"
    }
   },
   "outputs": [
    {
     "data": {
      "text/html": [
       "<div><i>Table length=11189</i>\n",
       "<table id=\"table139641525829968\" class=\"table-striped table-bordered table-condensed\">\n",
       "<thead><tr><th>EVENT_ID</th><th>TIME</th><th>RA</th><th>DEC</th><th>ENERGY</th><th>PHASE</th></tr></thead>\n",
       "<thead><tr><th></th><th>s</th><th>deg</th><th>deg</th><th>TeV</th><th></th></tr></thead>\n",
       "<thead><tr><th>int64</th><th>float64</th><th>float32</th><th>float32</th><th>float32</th><th>float64</th></tr></thead>\n",
       "<tr><td>2402</td><td>333778852.5099249</td><td>84.59457</td><td>22.03088</td><td>0.18194601</td><td>0.3934918682770723</td></tr>\n",
       "<tr><td>2408</td><td>333778852.5267153</td><td>84.21462</td><td>23.44914</td><td>0.08397394</td><td>0.8919525879696997</td></tr>\n",
       "<tr><td>2434</td><td>333778852.61315054</td><td>83.524704</td><td>22.725792</td><td>0.10596932</td><td>0.45797881185987477</td></tr>\n",
       "<tr><td>2445</td><td>333778852.6690142</td><td>83.76957</td><td>22.451006</td><td>0.19733498</td><td>0.11641851092409164</td></tr>\n",
       "<tr><td>2478</td><td>333778852.7627939</td><td>83.478516</td><td>23.484594</td><td>0.08522219</td><td>0.900480594501521</td></tr>\n",
       "<tr><td>2481</td><td>333778852.7778549</td><td>83.71517</td><td>21.985115</td><td>1.0020943</td><td>0.34760107795590983</td></tr>\n",
       "<tr><td>2513</td><td>333778852.8644467</td><td>82.421196</td><td>22.567652</td><td>0.14374068</td><td>0.9182740088921875</td></tr>\n",
       "<tr><td>2544</td><td>333778852.9826064</td><td>83.64136</td><td>22.041315</td><td>0.10316629</td><td>0.42611240294578184</td></tr>\n",
       "<tr><td>2559</td><td>333778853.0269414</td><td>84.069176</td><td>22.97337</td><td>0.047184493</td><td>0.7422974209419148</td></tr>\n",
       "<tr><td>...</td><td>...</td><td>...</td><td>...</td><td>...</td><td>...</td></tr>\n",
       "<tr><td>356223</td><td>333780039.4600492</td><td>84.11615</td><td>22.557505</td><td>0.08110082</td><td>0.6914919573678725</td></tr>\n",
       "<tr><td>356227</td><td>333780039.47105366</td><td>83.41534</td><td>21.67344</td><td>0.2096362</td><td>0.018183853280195963</td></tr>\n",
       "<tr><td>356242</td><td>333780039.5179095</td><td>83.55165</td><td>22.772985</td><td>0.17672835</td><td>0.4092061182772071</td></tr>\n",
       "<tr><td>356282</td><td>333780039.62997514</td><td>84.46133</td><td>21.69357</td><td>0.05068718</td><td>0.7361270045119108</td></tr>\n",
       "<tr><td>356473</td><td>333780040.3386479</td><td>84.45441</td><td>21.159828</td><td>0.1831569</td><td>0.7746788606122589</td></tr>\n",
       "<tr><td>356478</td><td>333780040.3548926</td><td>83.68336</td><td>23.444988</td><td>0.06305169</td><td>0.25693976618589837</td></tr>\n",
       "<tr><td>356485</td><td>333780040.3741322</td><td>84.33517</td><td>21.28338</td><td>0.060539745</td><td>0.8281108809408599</td></tr>\n",
       "<tr><td>356486</td><td>333780040.3755159</td><td>84.85886</td><td>22.116222</td><td>0.123453744</td><td>0.8691880225176731</td></tr>\n",
       "<tr><td>356526</td><td>333780040.52476007</td><td>84.86929</td><td>21.290916</td><td>0.13630114</td><td>0.29983892821377583</td></tr>\n",
       "</table></div>"
      ],
      "text/plain": [
       "<Table length=11189>\n",
       "EVENT_ID        TIME            RA       DEC       ENERGY          PHASE        \n",
       "                 s             deg       deg        TeV                         \n",
       " int64        float64        float32   float32    float32         float64       \n",
       "-------- ------------------ --------- --------- ----------- --------------------\n",
       "    2402  333778852.5099249  84.59457  22.03088  0.18194601   0.3934918682770723\n",
       "    2408  333778852.5267153  84.21462  23.44914  0.08397394   0.8919525879696997\n",
       "    2434 333778852.61315054 83.524704 22.725792  0.10596932  0.45797881185987477\n",
       "    2445  333778852.6690142  83.76957 22.451006  0.19733498  0.11641851092409164\n",
       "    2478  333778852.7627939 83.478516 23.484594  0.08522219    0.900480594501521\n",
       "    2481  333778852.7778549  83.71517 21.985115   1.0020943  0.34760107795590983\n",
       "    2513  333778852.8644467 82.421196 22.567652  0.14374068   0.9182740088921875\n",
       "    2544  333778852.9826064  83.64136 22.041315  0.10316629  0.42611240294578184\n",
       "    2559  333778853.0269414 84.069176  22.97337 0.047184493   0.7422974209419148\n",
       "     ...                ...       ...       ...         ...                  ...\n",
       "  356223  333780039.4600492  84.11615 22.557505  0.08110082   0.6914919573678725\n",
       "  356227 333780039.47105366  83.41534  21.67344   0.2096362 0.018183853280195963\n",
       "  356242  333780039.5179095  83.55165 22.772985  0.17672835   0.4092061182772071\n",
       "  356282 333780039.62997514  84.46133  21.69357  0.05068718   0.7361270045119108\n",
       "  356473  333780040.3386479  84.45441 21.159828   0.1831569   0.7746788606122589\n",
       "  356478  333780040.3548926  83.68336 23.444988  0.06305169  0.25693976618589837\n",
       "  356485  333780040.3741322  84.33517  21.28338 0.060539745   0.8281108809408599\n",
       "  356486  333780040.3755159  84.85886 22.116222 0.123453744   0.8691880225176731\n",
       "  356526 333780040.52476007  84.86929 21.290916  0.13630114  0.29983892821377583"
      ]
     },
     "execution_count": 41,
     "metadata": {},
     "output_type": "execute_result"
    }
   ],
   "source": [
    "observations[0].events.table"
   ]
  },
  {
   "cell_type": "markdown",
   "id": "d37ae9b2",
   "metadata": {},
   "source": [
    "We can see that we recover both the IRFs and the events file with the phase column."
   ]
  },
  {
   "cell_type": "markdown",
   "id": "972ba493",
   "metadata": {},
   "source": [
    "## 6. Pulsar analysis tools with gammapy"
   ]
  },
  {
   "cell_type": "markdown",
   "id": "1fe89d60",
   "metadata": {},
   "source": [
    "Once we have the correct DataStore and the modified EventList with the phase information, we can perform the pulsar analysis using different tools available in Gammapy. Allowing us to compute the phaseogram, maps, SED, lightcurve and more. To do so, please refer to the following [Gammapy tutorial](https://docs.gammapy.org/1.0/tutorials/analysis-time/pulsar_analysis.html#sphx-glr-tutorials-analysis-time-pulsar-analysis-py)."
   ]
  },
  {
   "cell_type": "markdown",
   "id": "3d495311",
   "metadata": {},
   "source": [
    "\n",
    "Recipe made by [Alvaros Mas](https://github.com/alvmas), [Maxime Regeard](https://github.com/MRegeard), [Jan Lukas Schubert](https://github.com/jalu98)."
   ]
  }
 ],
 "metadata": {
  "kernelspec": {
   "display_name": "Python 3 (ipykernel)",
   "language": "python",
   "name": "python3"
  },
  "language_info": {
   "codemirror_mode": {
    "name": "ipython",
    "version": 3
   },
   "file_extension": ".py",
   "mimetype": "text/x-python",
   "name": "python",
   "nbconvert_exporter": "python",
   "pygments_lexer": "ipython3",
   "version": "3.11.9"
  },
  "nbsphinx": {
   "orphan": true
  }
 },
 "nbformat": 4,
 "nbformat_minor": 5
}
