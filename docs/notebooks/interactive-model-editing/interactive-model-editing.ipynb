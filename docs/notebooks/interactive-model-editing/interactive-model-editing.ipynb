{
 "cells": [
  {
   "cell_type": "markdown",
   "metadata": {},
   "source": [
    "\n",
    "<div class=\"alert alert-info\">\n",
    "\n",
    "**This is a fixed-text formatted version of a Jupyter notebook**\n",
    "\n",
    "- **Source files:**\n",
    "[interactive-model-editing.ipynb](../../_static/notebooks/interactive-model-editing/interactive-model-editing.ipynb) |\n",
    "[interactive-model-editing.py](../../_static/notebooks/interactive-model-editing/interactive-model-editing.py)\n",
    "\n",
    "- **Environment:**\n",
    "[env.yml](../../_static/notebooks/interactive-model-editing/env.yml)\n",
    "</div>\n"
   ]
  },
  {
   "cell_type": "markdown",
   "metadata": {},
   "source": [
    "## Recipe to show the interactively edit the Sky model on the notebook  \n",
    "\n",
    "Example showing how to transform the gammapy model to a pandas dataframe, a widely used tabular format and modifying the parameters interactively on the notebook.  \n",
    "Plain text models in the XML or yaml format can not be sorted or filtered. Here we propose to use `qgrid` to explore and edit the Model.  \n",
    "\n",
    "\n",
    "*Qgrid is a Jupyter notebook widget which uses SlickGrid to render pandas DataFrames within a Jupyter notebook. This allows you to explore your DataFrames with intuitive scrolling, sorting, and filtering controls, as well as edit your DataFrames by double clicking cells.* [Github](https://github.com/quantopian/qgrid)  \n",
    "\n",
    "\n",
    "See GIF movie demo [here](https://github.com/quantopian/qgrid/blob/master/docs/images/filtering_demo.gif).\n",
    "\n",
    "Qgrid can be installed via conda:  \n",
    "`conda install -c conda-forge qgrid`  \n",
    "Works using Jupyter notebook.\n",
    "Currently doesn't work using Jupyter Lab 3.0.  \n",
    "\n",
    "There are alternatives to qgrid like [ipysheet](https://github.com/QuantStack/ipysheet) or [ipyaggrid](https://dgothrek.gitlab.io/ipyaggrid)."
   ]
  },
  {
   "cell_type": "code",
   "execution_count": 1,
   "metadata": {
    "execution": {
     "iopub.execute_input": "2021-11-24T21:35:29.686884Z",
     "iopub.status.busy": "2021-11-24T21:35:29.686057Z",
     "iopub.status.idle": "2021-11-24T21:35:30.598619Z",
     "shell.execute_reply": "2021-11-24T21:35:30.597049Z"
    }
   },
   "outputs": [
    {
     "data": {
      "application/vnd.jupyter.widget-view+json": {
       "model_id": "08ce2794b221465a9a196c840c3eb7cc",
       "version_major": 2,
       "version_minor": 0
      },
      "text/plain": [
       "QgridWidget(grid_options={'fullWidthRows': True, 'syncColumnCellResize': True, 'forceFitColumns': True, 'defau…"
      ]
     },
     "metadata": {},
     "output_type": "display_data"
    }
   ],
   "source": [
    "from gammapy.modeling.models import Models\n",
    "from astropy.table import Table\n",
    "\n",
    "# read gammapy models\n",
    "models = Models.read(\"$GAMMAPY_DATA/tests/models/gc_example_models.yaml\")\n",
    "df = models.to_parameters_table().to_pandas()\n",
    "\n",
    "import qgrid\n",
    "\n",
    "qgrid_widget = qgrid.show_grid(df, grid_options={\"maxVisibleRows\": 10})\n",
    "qgrid_widget\n",
    "# You can sort, filter, freeze/thaw parameters\n",
    "# e.g show all spectral indices, only parameters of a given source, only the spatial parameters, etc\n",
    "# all changes values are recorded and will need to be loaded in the gammapy model in a separated cell."
   ]
  },
  {
   "cell_type": "markdown",
   "metadata": {},
   "source": [
    "### Load the changed parameters and verify that the model has been updated "
   ]
  },
  {
   "cell_type": "code",
   "execution_count": 2,
   "metadata": {
    "execution": {
     "iopub.execute_input": "2021-11-24T21:35:30.607481Z",
     "iopub.status.busy": "2021-11-24T21:35:30.607117Z",
     "iopub.status.idle": "2021-11-24T21:35:30.608612Z",
     "shell.execute_reply": "2021-11-24T21:35:30.608787Z"
    }
   },
   "outputs": [
    {
     "data": {
      "text/html": [
       "<div><i>Table length=23</i>\n",
       "<table id=\"table5552326832\" class=\"table-striped table-bordered table-condensed\">\n",
       "<thead><tr><th>model</th><th>type</th><th>name</th><th>value</th><th>unit</th><th>error</th><th>min</th><th>max</th><th>frozen</th><th>link</th></tr></thead>\n",
       "<thead><tr><th>str18</th><th>str8</th><th>str9</th><th>float64</th><th>str14</th><th>int64</th><th>float64</th><th>float64</th><th>bool</th><th>str18</th></tr></thead>\n",
       "<tr><td>gc</td><td>spectral</td><td>index</td><td>2.0000e+00</td><td></td><td>0.000e+00</td><td>nan</td><td>nan</td><td>False</td><td></td></tr>\n",
       "<tr><td>gc</td><td>spectral</td><td>amplitude</td><td>3.0000e-12</td><td>cm-2 s-1 TeV-1</td><td>0.000e+00</td><td>nan</td><td>nan</td><td>False</td><td></td></tr>\n",
       "<tr><td>gc</td><td>spectral</td><td>reference</td><td>1.0000e+00</td><td>TeV</td><td>0.000e+00</td><td>nan</td><td>nan</td><td>True</td><td>reference@lQO8TIDg</td></tr>\n",
       "<tr><td>gc</td><td>spectral</td><td>lambda_</td><td>1.0000e-01</td><td>TeV-1</td><td>0.000e+00</td><td>nan</td><td>nan</td><td>False</td><td></td></tr>\n",
       "<tr><td>gc</td><td>spectral</td><td>alpha</td><td>1.0000e+00</td><td></td><td>0.000e+00</td><td>nan</td><td>nan</td><td>True</td><td></td></tr>\n",
       "<tr><td>gc</td><td>spatial</td><td>lon_0</td><td>0.0000e+00</td><td>deg</td><td>0.000e+00</td><td>nan</td><td>nan</td><td>False</td><td></td></tr>\n",
       "<tr><td>gc</td><td>spatial</td><td>lat_0</td><td>0.0000e+00</td><td>deg</td><td>0.000e+00</td><td>-9.000e+01</td><td>9.000e+01</td><td>False</td><td></td></tr>\n",
       "<tr><td>gll_iem_v06_cutout</td><td>spectral</td><td>norm</td><td>1.0000e+00</td><td></td><td>0.000e+00</td><td>nan</td><td>nan</td><td>False</td><td></td></tr>\n",
       "<tr><td>gll_iem_v06_cutout</td><td>spectral</td><td>tilt</td><td>0.0000e+00</td><td></td><td>0.000e+00</td><td>nan</td><td>nan</td><td>True</td><td></td></tr>\n",
       "<tr><td>gll_iem_v06_cutout</td><td>spectral</td><td>reference</td><td>1.0000e+00</td><td>TeV</td><td>0.000e+00</td><td>nan</td><td>nan</td><td>True</td><td></td></tr>\n",
       "<tr><td>gc-bkg</td><td>spectral</td><td>norm</td><td>1.0000e+00</td><td></td><td>0.000e+00</td><td>nan</td><td>nan</td><td>False</td><td></td></tr>\n",
       "<tr><td>gc-bkg</td><td>spectral</td><td>tilt</td><td>0.0000e+00</td><td></td><td>0.000e+00</td><td>nan</td><td>nan</td><td>True</td><td></td></tr>\n",
       "<tr><td>gc-bkg</td><td>spectral</td><td>reference</td><td>1.0000e+00</td><td>TeV</td><td>0.000e+00</td><td>nan</td><td>nan</td><td>True</td><td></td></tr>\n",
       "<tr><td>g09</td><td>spectral</td><td>index</td><td>2.0000e+00</td><td></td><td>0.000e+00</td><td>nan</td><td>nan</td><td>False</td><td></td></tr>\n",
       "<tr><td>g09</td><td>spectral</td><td>amplitude</td><td>3.0000e-12</td><td>cm-2 s-1 TeV-1</td><td>0.000e+00</td><td>nan</td><td>nan</td><td>False</td><td></td></tr>\n",
       "<tr><td>g09</td><td>spectral</td><td>reference</td><td>1.0000e+00</td><td>TeV</td><td>0.000e+00</td><td>nan</td><td>nan</td><td>True</td><td>reference@lQO8TIDg</td></tr>\n",
       "<tr><td>g09</td><td>spectral</td><td>lambda_</td><td>1.0000e-01</td><td>TeV-1</td><td>0.000e+00</td><td>nan</td><td>nan</td><td>False</td><td></td></tr>\n",
       "<tr><td>g09</td><td>spectral</td><td>alpha</td><td>1.0000e+00</td><td></td><td>0.000e+00</td><td>nan</td><td>nan</td><td>True</td><td></td></tr>\n",
       "<tr><td>g09</td><td>spatial</td><td>lon_0</td><td>9.0000e-01</td><td>deg</td><td>0.000e+00</td><td>nan</td><td>nan</td><td>False</td><td></td></tr>\n",
       "<tr><td>g09</td><td>spatial</td><td>lat_0</td><td>1.0000e-01</td><td>deg</td><td>0.000e+00</td><td>-9.000e+01</td><td>9.000e+01</td><td>False</td><td></td></tr>\n",
       "<tr><td>g09-bkg</td><td>spectral</td><td>norm</td><td>1.0000e+00</td><td></td><td>0.000e+00</td><td>nan</td><td>nan</td><td>False</td><td></td></tr>\n",
       "<tr><td>g09-bkg</td><td>spectral</td><td>tilt</td><td>0.0000e+00</td><td></td><td>0.000e+00</td><td>nan</td><td>nan</td><td>True</td><td></td></tr>\n",
       "<tr><td>g09-bkg</td><td>spectral</td><td>reference</td><td>1.0000e+00</td><td>TeV</td><td>0.000e+00</td><td>nan</td><td>nan</td><td>True</td><td></td></tr>\n",
       "</table></div>"
      ],
      "text/plain": [
       "<Table length=23>\n",
       "      model          type      name     value         unit        error      min        max    frozen        link       \n",
       "      str18          str8      str9    float64       str14        int64    float64    float64   bool        str18       \n",
       "------------------ -------- --------- ---------- -------------- --------- ---------- --------- ------ ------------------\n",
       "                gc spectral     index 2.0000e+00                0.000e+00        nan       nan  False                   \n",
       "                gc spectral amplitude 3.0000e-12 cm-2 s-1 TeV-1 0.000e+00        nan       nan  False                   \n",
       "                gc spectral reference 1.0000e+00            TeV 0.000e+00        nan       nan   True reference@lQO8TIDg\n",
       "                gc spectral   lambda_ 1.0000e-01          TeV-1 0.000e+00        nan       nan  False                   \n",
       "                gc spectral     alpha 1.0000e+00                0.000e+00        nan       nan   True                   \n",
       "                gc  spatial     lon_0 0.0000e+00            deg 0.000e+00        nan       nan  False                   \n",
       "                gc  spatial     lat_0 0.0000e+00            deg 0.000e+00 -9.000e+01 9.000e+01  False                   \n",
       "gll_iem_v06_cutout spectral      norm 1.0000e+00                0.000e+00        nan       nan  False                   \n",
       "gll_iem_v06_cutout spectral      tilt 0.0000e+00                0.000e+00        nan       nan   True                   \n",
       "gll_iem_v06_cutout spectral reference 1.0000e+00            TeV 0.000e+00        nan       nan   True                   \n",
       "            gc-bkg spectral      norm 1.0000e+00                0.000e+00        nan       nan  False                   \n",
       "            gc-bkg spectral      tilt 0.0000e+00                0.000e+00        nan       nan   True                   \n",
       "            gc-bkg spectral reference 1.0000e+00            TeV 0.000e+00        nan       nan   True                   \n",
       "               g09 spectral     index 2.0000e+00                0.000e+00        nan       nan  False                   \n",
       "               g09 spectral amplitude 3.0000e-12 cm-2 s-1 TeV-1 0.000e+00        nan       nan  False                   \n",
       "               g09 spectral reference 1.0000e+00            TeV 0.000e+00        nan       nan   True reference@lQO8TIDg\n",
       "               g09 spectral   lambda_ 1.0000e-01          TeV-1 0.000e+00        nan       nan  False                   \n",
       "               g09 spectral     alpha 1.0000e+00                0.000e+00        nan       nan   True                   \n",
       "               g09  spatial     lon_0 9.0000e-01            deg 0.000e+00        nan       nan  False                   \n",
       "               g09  spatial     lat_0 1.0000e-01            deg 0.000e+00 -9.000e+01 9.000e+01  False                   \n",
       "           g09-bkg spectral      norm 1.0000e+00                0.000e+00        nan       nan  False                   \n",
       "           g09-bkg spectral      tilt 0.0000e+00                0.000e+00        nan       nan   True                   \n",
       "           g09-bkg spectral reference 1.0000e+00            TeV 0.000e+00        nan       nan   True                   "
      ]
     },
     "execution_count": 2,
     "metadata": {},
     "output_type": "execute_result"
    }
   ],
   "source": [
    "qgrid_df = qgrid_widget.get_changed_df()  # get changed values\n",
    "models.update_parameters_from_table(\n",
    "    Table.from_pandas(qgrid_df)\n",
    ")  # update model with changed values\n",
    "models.to_parameters_table()  # print model to verify that values were updated"
   ]
  },
  {
   "cell_type": "code",
   "execution_count": 3,
   "metadata": {
    "execution": {
     "iopub.execute_input": "2021-11-24T21:35:30.610592Z",
     "iopub.status.busy": "2021-11-24T21:35:30.610260Z",
     "iopub.status.idle": "2021-11-24T21:35:30.612116Z",
     "shell.execute_reply": "2021-11-24T21:35:30.612406Z"
    },
    "tags": [
     "nbsphinx-thumbnail"
    ]
   },
   "outputs": [
    {
     "data": {
      "image/png": "[encoded data removed]",
      "text/plain": [
       "<IPython.core.display.Image object>"
      ]
     },
     "metadata": {},
     "output_type": "display_data"
    }
   ],
   "source": [
    "# Display thumbnails for nbsphinx-thumbnail\n",
    "from IPython.display import Image\n",
    "\n",
    "display(Image(filename=\"edit-interactive.png\"))"
   ]
  }
 ],
 "metadata": {
  "kernelspec": {
   "display_name": "Python 3",
   "language": "python",
   "name": "python3"
  },
  "language_info": {
   "codemirror_mode": {
    "name": "ipython",
    "version": 3
   },
   "file_extension": ".py",
   "mimetype": "text/x-python",
   "name": "python",
   "nbconvert_exporter": "python",
   "pygments_lexer": "ipython3",
   "version": "3.9.0"
  },
  "nbsphinx": {
   "orphan": true
  },
  "widgets": {
   "application/vnd.jupyter.widget-state+json": {
    "state": {
     "08ce2794b221465a9a196c840c3eb7cc": {
      "model_module": "qgrid",
      "model_module_version": "^1.1.3",
      "model_name": "QgridModel",
      "state": {
       "_columns": {
        "error": {
         "cssClass": "integer",
         "defaultSortAsc": true,
         "editable": true,
         "field": "error",
         "id": "error",
         "maxWidth": null,
         "minWidth": 30,
         "name": "error",
         "position": 7,
         "resizable": true,
         "sortable": true,
         "toolTip": "",
         "type": "integer",
         "width": null
        },
        "frozen": {
         "cssClass": "boolean",
         "defaultSortAsc": true,
         "editable": true,
         "field": "frozen",
         "id": "frozen",
         "maxWidth": null,
         "minWidth": 30,
         "name": "frozen",
         "position": 10,
         "resizable": true,
         "sortable": true,
         "toolTip": "",
         "type": "boolean",
         "width": null
        },
        "index": {
         "cssClass": "integer",
         "defaultSortAsc": true,
         "editable": true,
         "field": "index",
         "first_index": true,
         "id": "index",
         "index_display_text": "",
         "is_index": true,
         "level": 0,
         "maxWidth": null,
         "minWidth": 30,
         "name": "index",
         "position": 0,
         "resizable": true,
         "sortable": true,
         "toolTip": "",
         "type": "integer",
         "width": null
        },
        "link": {
         "cssClass": "string",
         "defaultSortAsc": true,
         "editable": true,
         "field": "link",
         "id": "link",
         "maxWidth": null,
         "minWidth": 30,
         "name": "link",
         "position": 11,
         "resizable": true,
         "sortable": true,
         "toolTip": "",
         "type": "string",
         "width": null
        },
        "max": {
         "cssClass": "number",
         "defaultSortAsc": true,
         "editable": true,
         "field": "max",
         "id": "max",
         "maxWidth": null,
         "minWidth": 30,
         "name": "max",
         "position": 9,
         "resizable": true,
         "sortable": true,
         "toolTip": "",
         "type": "number",
         "width": null
        },
        "min": {
         "cssClass": "number",
         "defaultSortAsc": true,
         "editable": true,
         "field": "min",
         "id": "min",
         "maxWidth": null,
         "minWidth": 30,
         "name": "min",
         "position": 8,
         "resizable": true,
         "sortable": true,
         "toolTip": "",
         "type": "number",
         "width": null
        },
        "model": {
         "cssClass": "string",
         "defaultSortAsc": true,
         "editable": true,
         "field": "model",
         "id": "model",
         "maxWidth": null,
         "minWidth": 30,
         "name": "model",
         "position": 2,
         "resizable": true,
         "sortable": true,
         "toolTip": "",
         "type": "string",
         "width": null
        },
        "name": {
         "cssClass": "string",
         "defaultSortAsc": true,
         "editable": true,
         "field": "name",
         "id": "name",
         "maxWidth": null,
         "minWidth": 30,
         "name": "name",
         "position": 4,
         "resizable": true,
         "sortable": true,
         "toolTip": "",
         "type": "string",
         "width": null
        },
        "qgrid_unfiltered_index": {
         "cssClass": "integer",
         "defaultSortAsc": true,
         "editable": true,
         "field": "qgrid_unfiltered_index",
         "id": "qgrid_unfiltered_index",
         "maxWidth": null,
         "minWidth": 30,
         "name": "qgrid_unfiltered_index",
         "position": 1,
         "resizable": true,
         "sortable": true,
         "toolTip": "",
         "type": "integer",
         "width": null
        },
        "type": {
         "cssClass": "string",
         "defaultSortAsc": true,
         "editable": true,
         "field": "type",
         "id": "type",
         "maxWidth": null,
         "minWidth": 30,
         "name": "type",
         "position": 3,
         "resizable": true,
         "sortable": true,
         "toolTip": "",
         "type": "string",
         "width": null
        },
        "unit": {
         "cssClass": "string",
         "defaultSortAsc": true,
         "editable": true,
         "field": "unit",
         "id": "unit",
         "maxWidth": null,
         "minWidth": 30,
         "name": "unit",
         "position": 6,
         "resizable": true,
         "sortable": true,
         "toolTip": "",
         "type": "string",
         "width": null
        },
        "value": {
         "cssClass": "number",
         "defaultSortAsc": true,
         "editable": true,
         "field": "value",
         "id": "value",
         "maxWidth": null,
         "minWidth": 30,
         "name": "value",
         "position": 5,
         "resizable": true,
         "sortable": true,
         "toolTip": "",
         "type": "number",
         "width": null
        }
       },
       "_df_json": "{\"schema\":{\"fields\":[{\"name\":\"index\",\"type\":\"integer\"},{\"name\":\"qgrid_unfiltered_index\",\"type\":\"integer\"},{\"name\":\"model\",\"type\":\"string\"},{\"name\":\"type\",\"type\":\"string\"},{\"name\":\"name\",\"type\":\"string\"},{\"name\":\"value\",\"type\":\"number\"},{\"name\":\"unit\",\"type\":\"string\"},{\"name\":\"error\",\"type\":\"integer\"},{\"name\":\"min\",\"type\":\"number\"},{\"name\":\"max\",\"type\":\"number\"},{\"name\":\"frozen\",\"type\":\"boolean\"},{\"name\":\"link\",\"type\":\"string\"}],\"primaryKey\":[\"index\"],\"pandas_version\":\"0.20.0\"},\"data\":[{\"index\":0,\"qgrid_unfiltered_index\":0,\"model\":\"gc\",\"type\":\"spectral\",\"name\":\"index\",\"value\":2.0,\"unit\":\"\",\"error\":0,\"min\":null,\"max\":null,\"frozen\":false,\"link\":\"\"},{\"index\":1,\"qgrid_unfiltered_index\":1,\"model\":\"gc\",\"type\":\"spectral\",\"name\":\"amplitude\",\"value\":0.0,\"unit\":\"cm-2 s-1 TeV-1\",\"error\":0,\"min\":null,\"max\":null,\"frozen\":false,\"link\":\"\"},{\"index\":2,\"qgrid_unfiltered_index\":2,\"model\":\"gc\",\"type\":\"spectral\",\"name\":\"reference\",\"value\":1.0,\"unit\":\"TeV\",\"error\":0,\"min\":null,\"max\":null,\"frozen\":true,\"link\":\"reference@lQO8TIDg\"},{\"index\":3,\"qgrid_unfiltered_index\":3,\"model\":\"gc\",\"type\":\"spectral\",\"name\":\"lambda_\",\"value\":0.1,\"unit\":\"TeV-1\",\"error\":0,\"min\":null,\"max\":null,\"frozen\":false,\"link\":\"\"},{\"index\":4,\"qgrid_unfiltered_index\":4,\"model\":\"gc\",\"type\":\"spectral\",\"name\":\"alpha\",\"value\":1.0,\"unit\":\"\",\"error\":0,\"min\":null,\"max\":null,\"frozen\":true,\"link\":\"\"},{\"index\":5,\"qgrid_unfiltered_index\":5,\"model\":\"gc\",\"type\":\"spatial\",\"name\":\"lon_0\",\"value\":0.0,\"unit\":\"deg\",\"error\":0,\"min\":null,\"max\":null,\"frozen\":false,\"link\":\"\"},{\"index\":6,\"qgrid_unfiltered_index\":6,\"model\":\"gc\",\"type\":\"spatial\",\"name\":\"lat_0\",\"value\":0.0,\"unit\":\"deg\",\"error\":0,\"min\":-90.0,\"max\":90.0,\"frozen\":false,\"link\":\"\"},{\"index\":7,\"qgrid_unfiltered_index\":7,\"model\":\"gll_iem_v06_cutout\",\"type\":\"spectral\",\"name\":\"norm\",\"value\":1.0,\"unit\":\"\",\"error\":0,\"min\":null,\"max\":null,\"frozen\":false,\"link\":\"\"},{\"index\":8,\"qgrid_unfiltered_index\":8,\"model\":\"gll_iem_v06_cutout\",\"type\":\"spectral\",\"name\":\"tilt\",\"value\":0.0,\"unit\":\"\",\"error\":0,\"min\":null,\"max\":null,\"frozen\":true,\"link\":\"\"},{\"index\":9,\"qgrid_unfiltered_index\":9,\"model\":\"gll_iem_v06_cutout\",\"type\":\"spectral\",\"name\":\"reference\",\"value\":1.0,\"unit\":\"TeV\",\"error\":0,\"min\":null,\"max\":null,\"frozen\":true,\"link\":\"\"},{\"index\":10,\"qgrid_unfiltered_index\":10,\"model\":\"gc-bkg\",\"type\":\"spectral\",\"name\":\"norm\",\"value\":1.0,\"unit\":\"\",\"error\":0,\"min\":null,\"max\":null,\"frozen\":false,\"link\":\"\"},{\"index\":11,\"qgrid_unfiltered_index\":11,\"model\":\"gc-bkg\",\"type\":\"spectral\",\"name\":\"tilt\",\"value\":0.0,\"unit\":\"\",\"error\":0,\"min\":null,\"max\":null,\"frozen\":true,\"link\":\"\"},{\"index\":12,\"qgrid_unfiltered_index\":12,\"model\":\"gc-bkg\",\"type\":\"spectral\",\"name\":\"reference\",\"value\":1.0,\"unit\":\"TeV\",\"error\":0,\"min\":null,\"max\":null,\"frozen\":true,\"link\":\"\"},{\"index\":13,\"qgrid_unfiltered_index\":13,\"model\":\"g09\",\"type\":\"spectral\",\"name\":\"index\",\"value\":2.0,\"unit\":\"\",\"error\":0,\"min\":null,\"max\":null,\"frozen\":false,\"link\":\"\"},{\"index\":14,\"qgrid_unfiltered_index\":14,\"model\":\"g09\",\"type\":\"spectral\",\"name\":\"amplitude\",\"value\":0.0,\"unit\":\"cm-2 s-1 TeV-1\",\"error\":0,\"min\":null,\"max\":null,\"frozen\":false,\"link\":\"\"},{\"index\":15,\"qgrid_unfiltered_index\":15,\"model\":\"g09\",\"type\":\"spectral\",\"name\":\"reference\",\"value\":1.0,\"unit\":\"TeV\",\"error\":0,\"min\":null,\"max\":null,\"frozen\":true,\"link\":\"reference@lQO8TIDg\"},{\"index\":16,\"qgrid_unfiltered_index\":16,\"model\":\"g09\",\"type\":\"spectral\",\"name\":\"lambda_\",\"value\":0.1,\"unit\":\"TeV-1\",\"error\":0,\"min\":null,\"max\":null,\"frozen\":false,\"link\":\"\"},{\"index\":17,\"qgrid_unfiltered_index\":17,\"model\":\"g09\",\"type\":\"spectral\",\"name\":\"alpha\",\"value\":1.0,\"unit\":\"\",\"error\":0,\"min\":null,\"max\":null,\"frozen\":true,\"link\":\"\"},{\"index\":18,\"qgrid_unfiltered_index\":18,\"model\":\"g09\",\"type\":\"spatial\",\"name\":\"lon_0\",\"value\":0.9,\"unit\":\"deg\",\"error\":0,\"min\":null,\"max\":null,\"frozen\":false,\"link\":\"\"},{\"index\":19,\"qgrid_unfiltered_index\":19,\"model\":\"g09\",\"type\":\"spatial\",\"name\":\"lat_0\",\"value\":0.1,\"unit\":\"deg\",\"error\":0,\"min\":-90.0,\"max\":90.0,\"frozen\":false,\"link\":\"\"},{\"index\":20,\"qgrid_unfiltered_index\":20,\"model\":\"g09-bkg\",\"type\":\"spectral\",\"name\":\"norm\",\"value\":1.0,\"unit\":\"\",\"error\":0,\"min\":null,\"max\":null,\"frozen\":false,\"link\":\"\"},{\"index\":21,\"qgrid_unfiltered_index\":21,\"model\":\"g09-bkg\",\"type\":\"spectral\",\"name\":\"tilt\",\"value\":0.0,\"unit\":\"\",\"error\":0,\"min\":null,\"max\":null,\"frozen\":true,\"link\":\"\"},{\"index\":22,\"qgrid_unfiltered_index\":22,\"model\":\"g09-bkg\",\"type\":\"spectral\",\"name\":\"reference\",\"value\":1.0,\"unit\":\"TeV\",\"error\":0,\"min\":null,\"max\":null,\"frozen\":true,\"link\":\"\"}]}",
       "_df_range": [
        0,
        100
       ],
       "_dom_classes": [],
       "_editable_rows": {},
       "_index_col_name": "qgrid_unfiltered_index",
       "_interval_columns": [],
       "_model_module": "qgrid",
       "_model_module_version": "^1.1.3",
       "_model_name": "QgridModel",
       "_multi_index": false,
       "_row_count": 23,
       "_row_styles": {},
       "_sort_ascending": true,
       "_sort_field": null,
       "_view_count": null,
       "_view_module": "qgrid",
       "_view_module_version": "^1.1.3",
       "_view_name": "QgridView",
       "_viewport_range": [
        0,
        100
       ],
       "grid_options": {
        "autoEdit": false,
        "boldIndex": true,
        "defaultColumnWidth": 150,
        "editable": true,
        "enableColumnReorder": false,
        "enableTextSelectionOnCells": true,
        "explicitInitialization": true,
        "filterable": true,
        "forceFitColumns": true,
        "fullWidthRows": true,
        "highlightSelectedCell": false,
        "highlightSelectedRow": true,
        "maxVisibleRows": 10,
        "minVisibleRows": 8,
        "rowHeight": 28,
        "sortable": true,
        "syncColumnCellResize": true
       },
       "id": "ebb57f27-6ee0-459b-8ed5-c77e761c91ee",
       "layout": "IPY_MODEL_1815937605eb4cb7a87867fec5f22230",
       "precision": 5,
       "show_toolbar": false
      }
     },
     "1815937605eb4cb7a87867fec5f22230": {
      "model_module": "@jupyter-widgets/base",
      "model_module_version": "1.2.0",
      "model_name": "LayoutModel",
      "state": {
       "_model_module": "@jupyter-widgets/base",
       "_model_module_version": "1.2.0",
       "_model_name": "LayoutModel",
       "_view_count": null,
       "_view_module": "@jupyter-widgets/base",
       "_view_module_version": "1.2.0",
       "_view_name": "LayoutView",
       "align_content": null,
       "align_items": null,
       "align_self": null,
       "border": null,
       "bottom": null,
       "display": null,
       "flex": null,
       "flex_flow": null,
       "grid_area": null,
       "grid_auto_columns": null,
       "grid_auto_flow": null,
       "grid_auto_rows": null,
       "grid_column": null,
       "grid_gap": null,
       "grid_row": null,
       "grid_template_areas": null,
       "grid_template_columns": null,
       "grid_template_rows": null,
       "height": null,
       "justify_content": null,
       "justify_items": null,
       "left": null,
       "margin": null,
       "max_height": null,
       "max_width": null,
       "min_height": null,
       "min_width": null,
       "object_fit": null,
       "object_position": null,
       "order": null,
       "overflow": null,
       "overflow_x": null,
       "overflow_y": null,
       "padding": null,
       "right": null,
       "top": null,
       "visibility": null,
       "width": null
      }
     }
    },
    "version_major": 2,
    "version_minor": 0
   }
  }
 },
 "nbformat": 4,
 "nbformat_minor": 4
}
